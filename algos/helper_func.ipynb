{
 "cells": [
  {
   "cell_type": "code",
   "execution_count": null,
   "metadata": {
    "collapsed": true
   },
   "outputs": [],
   "source": [
    "import edward as ed\n",
    "import matplotlib.pyplot as plt\n",
    "import numpy as np\n",
    "import tensorflow as tf"
   ]
  },
  {
   "cell_type": "code",
   "execution_count": null,
   "metadata": {
    "collapsed": true
   },
   "outputs": [],
   "source": [
    "def non_zero_entries(mat):   ## takes a 2 dimensional numpy array \n",
    "    indices = []\n",
    "    for i in range(0,mat.shape[0]):\n",
    "        for j in range(0,mat.shape[1]):\n",
    "            if mat[i,j] > 0:\n",
    "                indices.append((i,j))\n",
    "    return indices"
   ]
  },
  {
   "cell_type": "code",
   "execution_count": null,
   "metadata": {
    "collapsed": true
   },
   "outputs": [],
   "source": [
    "def num_non_zero(mat):   ## takes a 2 dimensional numpy array\n",
    "    num = 0.0\n",
    "    for i in range(0,mat.shape[0]):\n",
    "        for j in range(0,mat.shape[1]):\n",
    "            if mat[i,j] != 0:\n",
    "                num += 1.0\n",
    "    return num"
   ]
  },
  {
   "cell_type": "code",
   "execution_count": null,
   "metadata": {
    "collapsed": true
   },
   "outputs": [],
   "source": [
    "def load_data():\n",
    "    X = np.loadtxt('./pre_processed_data/bibtex/X_train.txt',delimiter=',')\n",
    "    #Y = np.loadtxt('./pre_processed_data/bibtex/Y_train.txt',delimiter=',')\n",
    "    x_train_mask = np.loadtxt('./pre_processed_data/bibtex/x_train_mask.txt')\n",
    "    #y_train_mask = np.loadtxt('./pre_processed_data/bibtex/y_train_mask.txt')\n",
    "    x = X*x_train_mask\n",
    "    #y = Y*y_train_mask\n",
    "    return X,x\n",
    "    "
   ]
  },
  {
   "cell_type": "code",
   "execution_count": null,
   "metadata": {
    "collapsed": true
   },
   "outputs": [],
   "source": [
    "def ndcg_score(users,items,train_mask,X,result):\n",
    "        \n",
    "    ndcg = 0\n",
    "    for i in range(0,users):\n",
    "        sort_index = np.argsort(result[i])[::-1]\n",
    "        score = 0\n",
    "        norm = 0\n",
    "        count = 1\n",
    "        \n",
    "        for j in range(0,items):\n",
    "                if train_mask[i,sort_index[j]] == 0 and X[i,sort_index[j]] == 1:\n",
    "                    count += 1\n",
    "                    norm += 1.0/np.log2(count)\n",
    "                    score += 1.0/np.log2(j+2)\n",
    "        if norm != 0:\n",
    "            ndcg += score/norm\n",
    "        else:\n",
    "            ndcg += 0\n",
    "    ndcg /= users\n",
    "    return ndcg"
   ]
  },
  {
   "cell_type": "code",
   "execution_count": null,
   "metadata": {
    "collapsed": true
   },
   "outputs": [],
   "source": [
    "def check(q_theta,q_beta,users,items,train_mask,X,no_sample=100,metric='ndcg'):\n",
    "    \n",
    "    q_theta = Gamma(gam_shp,gam_rte)\n",
    "    q_beta = Gamma(lam_shp,lam_rte)\n",
    "    sess = tf.InteractiveSession()\n",
    "    init = tf.global_variables_initializer()\n",
    "    init.run()\n",
    "    beta_sample = q_beta.sample(no_sample).eval()\n",
    "    theta_sample = q_theta.sample(no_sample).eval()\n",
    "    result = np.zeros([users,items])\n",
    "    for i in range(0,no_sample):\n",
    "        result = np.add(result,np.matmul(theta_sample[i],np.transpose(beta_sample[i])))\n",
    "    result /= no_sample\n",
    "    \n",
    "    if metric == 'mae':\n",
    "        return mae(users,items,train_mask,X,result)\n",
    "    elif metric == 'ndcg':\n",
    "        return ndcg_score(users,items,train_mask,X,result)"
   ]
  }
 ],
 "metadata": {
  "anaconda-cloud": {},
  "kernelspec": {
   "display_name": "Python [conda env:bml]",
   "language": "python",
   "name": "conda-env-bml-py"
  },
  "language_info": {
   "codemirror_mode": {
    "name": "ipython",
    "version": 2
   },
   "file_extension": ".py",
   "mimetype": "text/x-python",
   "name": "python",
   "nbconvert_exporter": "python",
   "pygments_lexer": "ipython2",
   "version": "2.7.13"
  }
 },
 "nbformat": 4,
 "nbformat_minor": 2
}
