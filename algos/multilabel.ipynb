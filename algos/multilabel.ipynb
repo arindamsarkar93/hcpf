{
 "cells": [
  {
   "cell_type": "code",
   "execution_count": null,
   "metadata": {
    "collapsed": true
   },
   "outputs": [],
   "source": [
    "import numpy as np\n",
    "import helper_func\n",
    "from sklearn import linear_model\n",
    "import cPickle as pickle\n",
    "import models\n",
    "from sklearn.metrics.pairwise import cosine_similarity as cosdist\n",
    "import edward as ed\n",
    "from edward.models import Poisson,Gamma\n",
    "import tensorflow as tf"
   ]
  },
  {
   "cell_type": "code",
   "execution_count": null,
   "metadata": {
    "collapsed": true
   },
   "outputs": [],
   "source": [
    "# PIK = \"../models/bibtex_hpf_50.dat\"\n",
    "# with open(PIK, \"rb\") as f:\n",
    "#     u,_,vy= pickle.load(f)\n",
    "# f.close()\n",
    "# dataset = 'multi_bibtex'\n",
    "# x_train,y_train,x_test,y_test = helper_func.load_data(dataset)\n",
    "# k = u.shape[1]\n",
    "# w = np.zeros(shape=[x_train.shape[1],u.shape[1]])"
   ]
  },
  {
   "cell_type": "code",
   "execution_count": null,
   "metadata": {
    "collapsed": true
   },
   "outputs": [],
   "source": [
    "sess = tf.InteractiveSession()\n",
    "init = tf.global_variables_initializer()\n",
    "init.run()\n",
    "PIK = \"../models/bibtex_po_po_50.dat\"\n",
    "with open(PIK, \"rb\") as f:\n",
    "    [u,_,vy]= pickle.load(f)\n",
    "f.close()\n",
    "dataset = 'multi_bibtex'\n",
    "x_train,y_train,x_test,y_test = helper_func.load_data(dataset)\n",
    "\n",
    "users = u.shape[0]\n",
    "k = u.shape[1]\n",
    "items2 = vy.shape[1]\n",
    "\n",
    "\n",
    "# k = u.shape[1]\n",
    "w = np.zeros(shape=[x_train.shape[1],u.shape[1]])"
   ]
  },
  {
   "cell_type": "code",
   "execution_count": null,
   "metadata": {},
   "outputs": [],
   "source": [
    "print items2"
   ]
  },
  {
   "cell_type": "code",
   "execution_count": null,
   "metadata": {},
   "outputs": [],
   "source": [
    "temp = np.matmul(u,vy)\n",
    "result = 0.0\n",
    "for i in range(0,temp.shape[0]):\n",
    "    result += helper_func.patk(temp[i],y_train[i],1)\n",
    "result /= temp.shape[0]\n",
    "print result"
   ]
  },
  {
   "cell_type": "code",
   "execution_count": null,
   "metadata": {
    "scrolled": true
   },
   "outputs": [],
   "source": [
    "for i in range(0,k):\n",
    "    print i\n",
    "    reg = linear_model.Ridge(alpha = 0.2)\n",
    "    reg.fit(x_train,u[:,i])\n",
    "    w[:,i] = reg.coef_\n",
    "u_hat = np.matmul(x_train,w)\n",
    "u_test = np.matmul(x_test,w)"
   ]
  },
  {
   "cell_type": "code",
   "execution_count": null,
   "metadata": {},
   "outputs": [],
   "source": [
    "nb = 10\n",
    "result = 0.0\n",
    "for i in range(0,u_test.shape[0]):\n",
    "    dist = cosdist(np.reshape(u_test[i],newshape=[1,-1]),u_hat)\n",
    "    indices = np.argsort(dist)[:,:nb]\n",
    "    predicted = np.zeros(shape=y_train.shape[1],dtype=np.float64)\n",
    "    for j in range(0,nb):\n",
    "        predicted += y_train[indices[0,j]]\n",
    "    predicted /= nb\n",
    "    result += helper_func.patk(predicted,y_test[i],1)\n",
    "result /= u_test.shape[0]\n",
    "print result"
   ]
  }
 ],
 "metadata": {
  "anaconda-cloud": {},
  "kernelspec": {
   "display_name": "Python [conda env:bml]",
   "language": "python",
   "name": "conda-env-bml-py"
  },
  "language_info": {
   "codemirror_mode": {
    "name": "ipython",
    "version": 2
   },
   "file_extension": ".py",
   "mimetype": "text/x-python",
   "name": "python",
   "nbconvert_exporter": "python",
   "pygments_lexer": "ipython2",
   "version": "2.7.13"
  }
 },
 "nbformat": 4,
 "nbformat_minor": 2
}
