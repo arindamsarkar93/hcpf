{
 "cells": [
  {
   "cell_type": "code",
   "execution_count": 3,
   "metadata": {
    "collapsed": true
   },
   "outputs": [],
   "source": [
    "import numpy as np\n",
    "import helper_func\n",
    "from sklearn import linear_model\n",
    "import cPickle as pickle\n",
    "import models\n",
    "from sklearn.metrics.pairwise import cosine_similarity as cosdist\n",
    "import edward as ed\n",
    "from edward.models import Poisson,Gamma\n",
    "import tensorflow as tf"
   ]
  },
  {
   "cell_type": "code",
   "execution_count": null,
   "metadata": {},
   "outputs": [],
   "source": [
    "# PIK = \"../models/bibtex_hpf_50.dat\"\n",
    "# with open(PIK, \"rb\") as f:\n",
    "#     u,_,vy= pickle.load(f)\n",
    "# f.close()\n",
    "# dataset = 'multi_bibtex'\n",
    "# x_train,y_train,x_test,y_test = helper_func.load_data(dataset)\n",
    "# k = u.shape[1]\n",
    "# w = np.zeros(shape=[x_train.shape[1],u.shape[1]])"
   ]
  },
  {
   "cell_type": "code",
   "execution_count": 9,
   "metadata": {},
   "outputs": [],
   "source": [
    "sess = tf.InteractiveSession()\n",
    "init = tf.global_variables_initializer()\n",
    "init.run()\n",
    "PIK = \"../models/bibtex_hpf_50.dat\"\n",
    "with open(PIK, \"rb\") as f:\n",
    "    [[a_s,bs],[_,_],[av2,bv2]]= pickle.load(f)\n",
    "f.close()\n",
    "dataset = 'multi_bibtex'\n",
    "x_train,y_train,x_test,y_test = helper_func.load_data(dataset)\n",
    "\n",
    "users = a_s.shape[0]\n",
    "k = a_s.shape[1]\n",
    "items2 = av2.shape[0]\n",
    "q_theta = Gamma(a_s,bs)\n",
    "theta_sample = q_theta.sample(30).eval()\n",
    "u = np.zeros(shape=[users,k])\n",
    "for i in range(0,30):\n",
    "    u += theta_sample[i]\n",
    "u /= 30\n",
    "\n",
    "q_beta2 = Gamma(np.transpose(av2),np.transpose(bv2))\n",
    "beta2_sample = q_beta2.sample(30).eval()\n",
    "vy = np.zeros(shape=[k,items2])\n",
    "for i in range(0,30):\n",
    "    vy += beta2_sample[i]\n",
    "vy /= 30\n",
    "\n",
    "# k = u.shape[1]\n",
    "w = np.zeros(shape=[x_train.shape[1],u.shape[1]])"
   ]
  },
  {
   "cell_type": "code",
   "execution_count": 10,
   "metadata": {
    "scrolled": true
   },
   "outputs": [
    {
     "name": "stdout",
     "output_type": "stream",
     "text": [
      "0.465983606557\n"
     ]
    }
   ],
   "source": [
    "temp = np.matmul(u,vy)\n",
    "result = 0.0\n",
    "for i in range(0,temp.shape[0]):\n",
    "    result += helper_func.patk(temp[i],y_train[i],1)\n",
    "result /= temp.shape[0]\n",
    "print result"
   ]
  },
  {
   "cell_type": "code",
   "execution_count": 14,
   "metadata": {
    "scrolled": true
   },
   "outputs": [
    {
     "name": "stdout",
     "output_type": "stream",
     "text": [
      "0\n",
      "1\n",
      "2\n",
      "3\n",
      "4\n",
      "5\n",
      "6\n",
      "7\n",
      "8\n",
      "9\n",
      "10\n",
      "11\n",
      "12\n",
      "13\n",
      "14\n",
      "15\n",
      "16\n",
      "17\n",
      "18\n",
      "19\n",
      "20\n",
      "21\n",
      "22\n",
      "23\n",
      "24\n",
      "25\n",
      "26\n",
      "27\n",
      "28\n",
      "29\n",
      "30\n",
      "31\n",
      "32\n",
      "33\n",
      "34\n",
      "35\n",
      "36\n",
      "37\n",
      "38\n",
      "39\n",
      "40\n",
      "41\n",
      "42\n",
      "43\n",
      "44\n",
      "45\n",
      "46\n",
      "47\n",
      "48\n",
      "49\n"
     ]
    }
   ],
   "source": [
    "for i in range(0,k):\n",
    "    print i\n",
    "    reg = linear_model.Ridge(alpha = 0.2)\n",
    "    reg.fit(x_train,u[:,i])\n",
    "    w[:,i] = reg.coef_\n",
    "u_hat = np.matmul(x_train,w)\n",
    "u_test = np.matmul(x_test,w)"
   ]
  },
  {
   "cell_type": "code",
   "execution_count": 15,
   "metadata": {},
   "outputs": [
    {
     "name": "stdout",
     "output_type": "stream",
     "text": [
      "0.00159045725646\n"
     ]
    }
   ],
   "source": [
    "nb = 150\n",
    "result = 0.0\n",
    "for i in range(0,u_test.shape[0]):\n",
    "    dist = cosdist(np.reshape(u_test[i],newshape=[1,-1]),u_hat)\n",
    "    indices = np.argsort(dist)[:,:nb]\n",
    "    predicted = np.zeros(shape=y_train.shape[1],dtype=np.float64)\n",
    "    for j in range(0,nb):\n",
    "        predicted += y_train[indices[0,j]]\n",
    "    predicted /= nb\n",
    "    result += helper_func.patk(predicted,y_test[i],1)\n",
    "result /= u_test.shape[0]\n",
    "print result"
   ]
  }
 ],
 "metadata": {
  "anaconda-cloud": {},
  "kernelspec": {
   "display_name": "Python [conda env:bml]",
   "language": "python",
   "name": "conda-env-bml-py"
  },
  "language_info": {
   "codemirror_mode": {
    "name": "ipython",
    "version": 2
   },
   "file_extension": ".py",
   "mimetype": "text/x-python",
   "name": "python",
   "nbconvert_exporter": "python",
   "pygments_lexer": "ipython2",
   "version": "2.7.13"
  }
 },
 "nbformat": 4,
 "nbformat_minor": 2
}
