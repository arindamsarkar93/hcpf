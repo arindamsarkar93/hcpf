{
 "cells": [
  {
   "cell_type": "code",
   "execution_count": 1,
   "metadata": {
    "collapsed": true
   },
   "outputs": [],
   "source": [
    "import edward as ed\n",
    "from edward.models import Poisson,Gamma\n",
    "import matplotlib.pyplot as plt\n",
    "import numpy as np\n",
    "import tensorflow as tf\n",
    "import helper_func\n",
    "import math\n",
    "import models\n",
    "import scipy.special as sp\n",
    "from scipy.misc import logsumexp\n",
    "import gc"
   ]
  },
  {
   "cell_type": "code",
   "execution_count": 2,
   "metadata": {
    "collapsed": true
   },
   "outputs": [],
   "source": [
    "sess = tf.InteractiveSession()\n",
    "init = tf.global_variables_initializer()\n",
    "init.run()"
   ]
  },
  {
   "cell_type": "code",
   "execution_count": 3,
   "metadata": {},
   "outputs": [],
   "source": [
    "dataset = 'bibx' \n",
    "full_X1,x1,test_mask1 = helper_func.load_data(dataset)\n",
    "dataset = 'biby' \n",
    "full_X2,x2,test_mask2 = helper_func.load_data(dataset)\n",
    "result_folder = \"dual_bibtex\"\n",
    "metric = 'mae'\n",
    "users = x1.shape[0]\n",
    "items1 = x1.shape[1]\n",
    "items2 = x2.shape[1]\n",
    "train_non_zero_indices1 = helper_func.non_zero_entries(x1)\n",
    "train_non_zero_indices2 = helper_func.non_zero_entries(x2)\n",
    "score = []"
   ]
  },
  {
   "cell_type": "code",
   "execution_count": 4,
   "metadata": {},
   "outputs": [],
   "source": [
    "epochs = 50000\n",
    "epochs += 1\n",
    "test_every = 1000\n",
    "no_samples_mle = 5000\n",
    "no_sample_inf = 20\n",
    "k = 10\n",
    "param1 = models.poisson_response(users,items1);  # 'ztp' or 'normal'\n",
    "param2 = models.poisson_response(users,items2);"
   ]
  },
  {
   "cell_type": "code",
   "execution_count": 5,
   "metadata": {},
   "outputs": [],
   "source": [
    "varpi = 0.1 #looks like 'w^bar' or omega bar\n",
    "sparsity1 = 1.0 - float(len(train_non_zero_indices1))/(users*items1)\n",
    "em1 = -np.log(sparsity1)\n",
    "emsq1 = np.sqrt(em1/k)\n",
    "sparsity2 = 1.0 - float(len(train_non_zero_indices2))/(users*items2)\n",
    "em2 = -np.log(sparsity2)\n",
    "emsq2 = np.sqrt(em2/k)\n",
    "\n",
    "varrho = 0.1 # looks like mirror inverted eta1 = varrho * emsq1  #looks like n\n",
    "zeta1 = varpi *emsq1 #looks like mirror inverted cq\n",
    "rho =  varrho * varrho  #looks like p\n",
    "omega = varpi * varpi #looks like w\n",
    "\n",
    "emsq = 1.0 - (float(len(train_non_zero_indices1)) + float(len(train_non_zero_indices2)))/((users*items1)+(users*items2))\n",
    "emsq = -np.log(emsq)\n",
    "emsq = np.sqrt(emsq/k)\n",
    "\n",
    "eta = varrho * emsq  #looks like n\n",
    "\n",
    "zeta1 = varpi *emsq1 #looks like mirror inverted c\n",
    "zeta2 = varpi *emsq2 #looks like mirror inverted c\n",
    "\n",
    "xi = 0.7\n",
    "tau = 10000.0\n",
    "n_trunc = 20;"
   ]
  },
  {
   "cell_type": "code",
   "execution_count": 6,
   "metadata": {
    "collapsed": true
   },
   "outputs": [],
   "source": [
    "t_user = np.ones(shape=users)*tau\n",
    "t_item1 = np.ones(shape=items1)*tau\n",
    "t_item2 = np.ones(shape=items2)*tau\n",
    "\n",
    "a_s = np.ones(shape=[users,k])*eta\n",
    "bs = np.ones(shape=[users,k])*varrho\n",
    "ar =  np.ones(shape=users)*(rho+k*eta)   # not fixed in the original code\n",
    "br = np.ones(shape=users)*(rho/varrho)\n",
    "\n",
    "av1 = np.ones(shape=[items1,k])*zeta1\n",
    "bv1 = np.ones(shape=[items1,k])*varpi\n",
    "aw1 = np.ones(shape=items1)*(omega+k*zeta1)  # not fixed in the original code\n",
    "bw1 = np.ones(shape=items1)*(omega/varpi)\n",
    "\n",
    "av2 = np.ones(shape=[items2,k])*zeta2\n",
    "bv2 = np.ones(shape=[items2,k])*varpi\n",
    "aw2 = np.ones(shape=items2)*(omega+k*zeta2)  # not fixed in the original code\n",
    "bw2 = np.ones(shape=items2)*(omega/varpi)\n",
    "\n",
    "varphi = np.zeros(k)\n"
   ]
  },
  {
   "cell_type": "code",
   "execution_count": 7,
   "metadata": {
    "collapsed": true
   },
   "outputs": [],
   "source": [
    "# curr_loglik = cutoff_loglik -1.0users,items1,\n",
    "\n",
    "# while cutoff_loglik > curr_loglik:\n",
    "#     n_trunc -= 1\n",
    "#     curr_loglik = n_trunc* np.log(em) - np.log(np.expm1(em)) - math.lgamma(n_trunc + 1);\n",
    "# n_trunc += 1\n",
    "# print n_trunc"
   ]
  },
  {
   "cell_type": "code",
   "execution_count": 8,
   "metadata": {},
   "outputs": [],
   "source": [
    "param1.mle_update(train_non_zero_indices1,x1,no_samples_mle)\n",
    "param2.mle_update(train_non_zero_indices2,x2,no_samples_mle)\n",
    "del train_non_zero_indices1\n",
    "del train_non_zero_indices2"
   ]
  },
  {
   "cell_type": "code",
   "execution_count": 9,
   "metadata": {},
   "outputs": [
    {
     "name": "stdout",
     "output_type": "stream",
     "text": [
      "1.0\n",
      "1.0\n"
     ]
    }
   ],
   "source": [
    "print param1.get_param()\n",
    "print param2.get_param()"
   ]
  },
  {
   "cell_type": "code",
   "execution_count": 10,
   "metadata": {
    "scrolled": true
   },
   "outputs": [
    {
     "name": "stdout",
     "output_type": "stream",
     "text": [
      "1000\n",
      "2000\n",
      "3000\n",
      "4000\n",
      "5000\n",
      "6000\n",
      "7000\n",
      "8000\n",
      "9000\n",
      "10000\n",
      "11000\n",
      "12000\n",
      "13000\n",
      "14000\n",
      "15000\n",
      "16000\n",
      "17000\n",
      "18000\n",
      "19000\n",
      "20000\n",
      "21000\n",
      "22000\n",
      "23000\n",
      "24000\n",
      "25000\n",
      "26000\n",
      "27000\n",
      "28000\n",
      "29000\n",
      "30000\n",
      "31000\n",
      "32000\n",
      "33000\n",
      "34000\n",
      "35000\n",
      "36000\n",
      "37000\n",
      "38000\n",
      "39000\n",
      "40000\n",
      "41000\n",
      "42000\n",
      "43000\n",
      "44000\n",
      "45000\n",
      "46000\n",
      "47000\n",
      "48000\n",
      "49000\n",
      "50000\n"
     ]
    }
   ],
   "source": [
    "curr_iter  = 0\n",
    "while curr_iter <= epochs:\n",
    "    curr_iter += 1\n",
    "    u = np.random.randint(low=0,high=users,dtype='int64')\n",
    "    i1 = np.random.randint(low=0,high=items1,dtype='int64')\n",
    "    i2 = np.random.randint(low=0,high=items2,dtype='int64')\n",
    "    tu = np.power(t_user[u],-xi)\n",
    "    ti1 = np.power(t_item1[i1],-xi)\n",
    "    ti2 = np.power(t_item2[i2],-xi)\n",
    "    \n",
    "    br[u] = (1.0-tu)*br[u] + tu*(rho/varrho + np.sum(a_s[u,:]/bs[u,:]))\n",
    "    bs[u,:] = (1.0-tu)*bs[u,:] + tu*(ar[u]/br[u] + items1*(av1[i1,:]/bv1[i1,:]) + items2*(av2[i2,:]/bv2[i2,:]))\n",
    "    \n",
    "    bw1[i1] = (1.0-ti1)*bw1[i1] + ti1*(omega/varpi + np.sum(av1[i1,:]/bv1[i1,:]))\n",
    "    bv1[i1,:] = (1.0-ti1)*bv1[i1,:] + ti1*(aw1[i1]/bw1[i1] + users*(a_s[u,:]/bs[u,:]))\n",
    "    \n",
    "    bw2[i2] = (1.0-ti2)*bw2[i2] + ti2*(omega/varpi + np.sum(av2[i2,:]/bv2[i2,:]))\n",
    "    bv2[i2,:] = (1.0-ti2)*bv2[i2,:] + ti2*(aw2[i2]/bw2[i2] + users*(a_s[u,:]/bs[u,:]))\n",
    "    \n",
    "    if x1[u,i1]==0:\n",
    "        av1[i1,:] = (1.0-ti1)*av1[i1,:] + ti1*zeta1\n",
    "        a_s_i1 = 0.0\n",
    "    else:\n",
    "        A_ui1 = np.sum((a_s[u,:]*av1[i1,:])/(bs[u,:]*bv1[i1,:]))\n",
    "        en1 = param1.expectation(x1[u,i1],A_ui1,n_trunc)\n",
    "        varphi[:]= sp.digamma(a_s[u,:])-np.log(bs[u,:])+sp.digamma(av1[i1,:])-np.log(bv1[i1,:])\n",
    "        log_norm = logsumexp(varphi[:])\n",
    "        varphi[:] = np.exp(varphi[:]-log_norm)\n",
    "        av1[i1,:] = (1.0-ti1)*av1[i1,:] + ti1*(zeta1+users*en1*varphi[:])\n",
    "        a_s_i1 = items1*en1*varphi[:]\n",
    "        \n",
    "    if x2[u,i2]==0:\n",
    "        av2[i2,:] = (1.0-ti2)*av2[i2,:] + ti2*zeta2\n",
    "        a_s_i2 = 0.0\n",
    "    else:\n",
    "        A_ui2 = np.sum((a_s[u,:]*av2[i2,:])/(bs[u,:]*bv2[i2,:]))\n",
    "        en2 = param2.expectation(x2[u,i2],A_ui2,n_trunc)\n",
    "        varphi[:]= sp.digamma(a_s[u,:])-np.log(bs[u,:])+sp.digamma(av2[i2,:])-np.log(bv2[i2,:])\n",
    "        log_norm = logsumexp(varphi[:])\n",
    "        varphi[:] = np.exp(varphi[:]-log_norm)\n",
    "        av2[i2,:] = (1.0-ti2)*av2[i2,:] + ti2*(zeta2+users*en2*varphi[:])\n",
    "        a_s_i2 = items2*en2*varphi[:]\n",
    "\n",
    "\n",
    "    a_s[u,:] = (1.0-tu)*a_s[u,:] + tu*(eta + a_s_i1 + a_s_i2)\n",
    "\n",
    "    \n",
    "    t_user[u] += 1.0\n",
    "    t_item1[i1] += 1.0\n",
    "    t_item2[i2] += 1.0\n",
    "    \n",
    "    if curr_iter%test_every == 0:\n",
    "        print curr_iter\n",
    "        q_theta = Gamma(a_s,bs)\n",
    "        q_beta1 = Gamma(np.transpose(av1),np.transpose(bv1))\n",
    "        q_beta2 = Gamma(np.transpose(av2),np.transpose(bv2))\n",
    "        theta_sample = q_theta.sample(no_sample_inf).eval()\n",
    "        beta1_sample = q_beta1.sample(no_sample_inf).eval()\n",
    "        beta2_sample = q_beta2.sample(no_sample_inf).eval()\n",
    "        score.append(helper_func.check_dual(param1,param2,theta_sample,beta1_sample,beta2_sample,\\\n",
    "                                            test_mask1,test_mask2,full_X1,full_X2,metric=metric))\n",
    "        gc.collect()"
   ]
  },
  {
   "cell_type": "code",
   "execution_count": 11,
   "metadata": {},
   "outputs": [
    {
     "data": {
      "image/png": "[encoded data removed]",
      "text/plain": [
       "<matplotlib.figure.Figure at 0x7f1fcbe7f790>"
      ]
     },
     "metadata": {},
     "output_type": "display_data"
    }
   ],
   "source": [
    "plt.plot(score)\n",
    "plt.show()\n",
    "np.savetxt('../results/'+result_folder+'/'+'hcpf_po_dual_'+metric+'_'+str(k)+'.txt',np.array(score))\n"
   ]
  }
 ],
 "metadata": {
  "anaconda-cloud": {},
  "kernelspec": {
   "display_name": "Python [conda env:bml]",
   "language": "python",
   "name": "conda-env-bml-py"
  },
  "language_info": {
   "codemirror_mode": {
    "name": "ipython",
    "version": 2
   },
   "file_extension": ".py",
   "mimetype": "text/x-python",
   "name": "python",
   "nbconvert_exporter": "python",
   "pygments_lexer": "ipython2",
   "version": "2.7.13"
  }
 },
 "nbformat": 4,
 "nbformat_minor": 2
}
