{
 "cells": [
  {
   "cell_type": "code",
   "execution_count": null,
   "metadata": {
    "collapsed": true
   },
   "outputs": [],
   "source": [
    "import edward as ed\n",
    "from edward.models import Poisson,Gamma\n",
    "import matplotlib.pyplot as plt\n",
    "import numpy as np\n",
    "import tensorflow as tf\n",
    "import helper_func\n",
    "import math\n",
    "import models\n",
    "import scipy.special as sp\n",
    "from scipy.misc import logsumexp\n",
    "import gc"
   ]
  },
  {
   "cell_type": "code",
   "execution_count": null,
   "metadata": {
    "collapsed": true
   },
   "outputs": [],
   "source": [
    "sess = tf.InteractiveSession()\n",
    "init = tf.global_variables_initializer()\n",
    "init.run()"
   ]
  },
  {
   "cell_type": "code",
   "execution_count": null,
   "metadata": {
    "collapsed": true
   },
   "outputs": [],
   "source": [
    "dataset = 'bibx'\n",
    "full_X,x,test_mask1 = helper_func.load_data(dataset)\n",
    "dataset = 'biby'\n",
    "full_Y,y,test_mask2 = helper_func.load_data(dataset)\n",
    "metric = 'mae_nz_all'\n",
    "x = full_X #*x_train_mask\n",
    "y = full_Y #*y_train_mask\n",
    "tot = 100\n",
    "tot += 1\n",
    "test_every = 20\n",
    "non_zero_x = helper_func.non_zero_entries(x)\n",
    "non_zero_y = helper_func.non_zero_entries(y)\n",
    "no_sample = 20\n",
    "score = []"
   ]
  },
  {
   "cell_type": "code",
   "execution_count": null,
   "metadata": {},
   "outputs": [],
   "source": [
    "K = 50\n",
    "users = full_X.shape[0]\n",
    "items1 = full_X.shape[1]\n",
    "items2 = full_Y.shape[1]\n",
    "param1 = models.hpf(users,items1)\n",
    "param2 = models.hpf(users,items2)\n",
    "a = a_c = c = c_c = 0.3\n",
    "b_c = d_c = 1.0"
   ]
  },
  {
   "cell_type": "code",
   "execution_count": null,
   "metadata": {
    "collapsed": true
   },
   "outputs": [],
   "source": [
    "kappa_shp =  np.random.uniform(low=0.1,size=users)\n",
    "kappa_rte = np.random.uniform(low=0.1,size=users)\n",
    "\n",
    "tau_shp = np.random.uniform(low=0.1,size=items1)\n",
    "tau_rte = np.random.uniform(low=0.1,size=items1)\n",
    "\n",
    "rho_shp = np.random.uniform(low=0.1,size=items2)\n",
    "rho_rte = np.random.uniform(low=0.1,size=items2)\n",
    "\n",
    "phi = np.zeros([users,items1,K])\n",
    "ohm = np.zeros([users,items2,K])\n",
    "\n",
    "gam_shp = np.random.uniform(low=0.1,size=[users,K])\n",
    "gam_rte = np.random.uniform(low=0.1,size=[users,K])\n",
    "\n",
    "lam_shp = np.random.uniform(low=0.1,size=[items1,K])\n",
    "lam_rte = np.random.uniform(low=0.1,size=[items1,K])\n",
    "\n",
    "mu_shp = np.random.uniform(low=0.1,size=[items2,K])\n",
    "mu_rte = np.random.uniform(low=0.1,size=[items2,K])"
   ]
  },
  {
   "cell_type": "code",
   "execution_count": null,
   "metadata": {
    "scrolled": true
   },
   "outputs": [],
   "source": [
    "for u in range(0,users):\n",
    "    kappa_shp[u] = a_c + K*a\n",
    "for i in range(0,items1):\n",
    "    tau_shp[i] = c_c + K*c\n",
    "for j in range(0,items2):\n",
    "    rho_shp[j] = c_c + K*c\n",
    "\n",
    "for ite in range(0,tot):\n",
    "    print(ite)\n",
    "    \n",
    "    for ui in non_zero_x:\n",
    "        u = ui[0]\n",
    "        i = ui[1]\n",
    "        phi[u,i,:]= sp.digamma(gam_shp[u,:])-np.log(gam_rte[u,:])+sp.digamma(lam_shp[i,:])-np.log(lam_rte[i,:])\n",
    "        norm = logsumexp(phi[u,i,:])\n",
    "        phi[u,i,:] = np.exp(phi[u,i,:]-norm)\n",
    "        \n",
    "    for uj in non_zero_y:\n",
    "        u = uj[0]\n",
    "        j = uj[1]\n",
    "        ohm[u,j,:]= sp.digamma(gam_shp[u,:])-np.log(gam_rte[u,:])+sp.digamma(mu_shp[j,:])-np.log(mu_rte[j,:])\n",
    "        norm = logsumexp(ohm[u,j,:])\n",
    "        ohm[u,j,:] = np.exp(ohm[u,j,:]-norm)\n",
    "    \n",
    "    for u in range(0,users):\n",
    "        for k in range(0,K):\n",
    "            gam_shp[u,k] = a + np.inner(x[u,:],phi[u,:,k]) + np.inner(y[u,:],ohm[u,:,k])\n",
    "            gam_rte[u,k] = (kappa_shp[u]/kappa_rte[u]) + np.sum(lam_shp[:,k]/lam_rte[:,k]) + np.sum(mu_shp[:,k]/mu_rte[:,k])\n",
    "        kappa_rte[u] = (a_c/b_c) + np.sum(gam_shp[u,:]/gam_rte[u,:])\n",
    "    \n",
    "    for i in range(0,items1):\n",
    "        for k in range(0,K):\n",
    "            lam_shp[i,k] = c + np.inner(x[:,i],phi[:,i,k])\n",
    "            lam_rte[i,k] = (tau_shp[i]/tau_rte[i]) + np.sum(gam_shp[:,k]/gam_rte[:,k])\n",
    "        tau_rte[i] = (c_c/d_c) + np.sum(lam_shp[i,:]/lam_rte[i,:])\n",
    "    \n",
    "    for j in range(0,items2):\n",
    "        for k in range(0,K):\n",
    "            mu_shp[j,k] = c + np.inner(y[:,j],ohm[:,j,k])\n",
    "            mu_rte[j,k] = (rho_shp[j]/rho_rte[j]) + np.sum(gam_shp[:,k]/gam_rte[:,k])\n",
    "        rho_rte[j] = (c_c/d_c) + np.sum(mu_shp[j,:]/mu_rte[j,:])\n",
    "    \n",
    "    if ite%test_every == 0:\n",
    "        q_theta = Gamma(gam_shp,gam_rte)\n",
    "        q_beta1 = Gamma(np.transpose(lam_shp),np.transpose(lam_rte))\n",
    "        q_beta2 = Gamma(np.transpose(mu_shp),np.transpose(mu_rte))\n",
    "        beta1_sample = q_beta1.sample(no_sample).eval()\n",
    "        beta2_sample = q_beta2.sample(no_sample).eval()\n",
    "        theta_sample = q_theta.sample(no_sample).eval()\n",
    "        score.append(helper_func.check(param1,theta_sample,beta1_sample,test_mask1,full_X,metric=metric) \\\n",
    "                    +helper_func.check(param2,theta_sample,beta2_sample,test_mask2,full_Y,metric=metric))\n",
    "        gc.collect()\n"
   ]
  },
  {
   "cell_type": "code",
   "execution_count": null,
   "metadata": {
    "collapsed": true
   },
   "outputs": [],
   "source": [
    "# to_save = [[gam_shp,gam_rte],[lam_shp,lam_rte],[mu_shp,mu_rte]]\n",
    "# PIK = \"../models/bibtex_hpf_\"+str(K)+\".dat\"\n",
    "# with open(PIK, \"wb\") as f:\n",
    "#     pickle.dump(to_save, f)"
   ]
  },
  {
   "cell_type": "code",
   "execution_count": null,
   "metadata": {
    "collapsed": true
   },
   "outputs": [],
   "source": [
    "#check(0)"
   ]
  },
  {
   "cell_type": "code",
   "execution_count": null,
   "metadata": {},
   "outputs": [],
   "source": [
    "plt.plot(score)\n",
    "plt.show()\n",
    "# np.savetxt(\"mae_d_k05.txt\",mae_val)"
   ]
  }
 ],
 "metadata": {
  "anaconda-cloud": {},
  "kernelspec": {
   "display_name": "Python [conda env:bml]",
   "language": "python",
   "name": "conda-env-bml-py"
  },
  "language_info": {
   "codemirror_mode": {
    "name": "ipython",
    "version": 2
   },
   "file_extension": ".py",
   "mimetype": "text/x-python",
   "name": "python",
   "nbconvert_exporter": "python",
   "pygments_lexer": "ipython2",
   "version": "2.7.13"
  }
 },
 "nbformat": 4,
 "nbformat_minor": 1
}
