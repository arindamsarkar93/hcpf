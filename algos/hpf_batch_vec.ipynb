{
 "cells": [
  {
   "cell_type": "code",
   "execution_count": 9,
   "metadata": {
    "collapsed": true
   },
   "outputs": [],
   "source": [
    "import edward as ed\n",
    "from edward.models import Poisson,Gamma\n",
    "import matplotlib.pyplot as plt\n",
    "import numpy as np\n",
    "import tensorflow as tf\n",
    "import helper_func\n",
    "import math\n",
    "import models\n",
    "import scipy.special as sp\n",
    "from scipy.misc import logsumexp\n",
    "import gc"
   ]
  },
  {
   "cell_type": "code",
   "execution_count": 10,
   "metadata": {
    "collapsed": true
   },
   "outputs": [],
   "source": [
    "sess = tf.InteractiveSession()\n",
    "init = tf.global_variables_initializer()\n",
    "init.run()"
   ]
  },
  {
   "cell_type": "code",
   "execution_count": 11,
   "metadata": {
    "collapsed": true
   },
   "outputs": [],
   "source": [
    "dataset = 'movielens'  #bibx,biby,movielens\n",
    "full_X,y,test_mask = helper_func.load_data(dataset)\n",
    "y = full_X\n",
    "result_folder = \"dual_bibtex\"\n",
    "metric = 'mae_nz_all'\n",
    "tot = 100\n",
    "tot += 1\n",
    "ndcg = []\n",
    "test_every = 20;\n",
    "no_sample = 100\n",
    "score = []"
   ]
  },
  {
   "cell_type": "code",
   "execution_count": 12,
   "metadata": {
    "collapsed": true
   },
   "outputs": [],
   "source": [
    "K = 50\n",
    "users = y.shape[0]\n",
    "items = y.shape[1]\n",
    "param = models.hpf(users,items)\n",
    "a = a_c = c = c_c = 0.3\n",
    "b_c = d_c = 1.0      "
   ]
  },
  {
   "cell_type": "code",
   "execution_count": 15,
   "metadata": {
    "collapsed": true
   },
   "outputs": [],
   "source": [
    "kappa_shp =  np.random.uniform(low=0.1,size=(users,1))*(a_c + K*a)\n",
    "kappa_rte = np.random.uniform(low=0.1,size=(users,1))\n",
    "tau_shp = np.random.uniform(low=0.1,size=(items,1))*(c_c + K*c)\n",
    "tau_rte = np.random.uniform(low=0.1,size=(items,1))\n",
    "phi = np.zeros([users,items,K])\n",
    "gam_shp = np.random.uniform(low=0.1,size=[users,K])\n",
    "gam_rte = np.random.uniform(low=0.1,size=[users,K])\n",
    "lam_shp = np.random.uniform(low=0.1,size=[items,K])\n",
    "lam_rte = np.random.uniform(low=0.1,size=[items,K])\n",
    "non_zero_indices = helper_func.non_zero_entries(y)    "
   ]
  },
  {
   "cell_type": "code",
   "execution_count": 16,
   "metadata": {},
   "outputs": [
    {
     "name": "stdout",
     "output_type": "stream",
     "text": [
      "0\n",
      "1\n",
      "2\n",
      "3\n",
      "4\n",
      "5\n",
      "6\n",
      "7\n",
      "8\n",
      "9\n",
      "10\n",
      "11\n",
      "12\n",
      "13\n",
      "14\n",
      "15\n",
      "16\n",
      "17\n",
      "18\n",
      "19\n",
      "20\n",
      "21\n",
      "22\n",
      "23\n",
      "24\n",
      "25\n",
      "26\n",
      "27\n",
      "28\n",
      "29\n",
      "30\n",
      "31\n",
      "32\n",
      "33\n",
      "34\n",
      "35\n",
      "36\n",
      "37\n",
      "38\n",
      "39\n",
      "40\n",
      "41\n",
      "42\n",
      "43\n",
      "44\n",
      "45\n",
      "46\n",
      "47\n",
      "48\n",
      "49\n",
      "50\n",
      "51\n",
      "52\n",
      "53\n",
      "54\n",
      "55\n",
      "56\n",
      "57\n",
      "58\n",
      "59\n",
      "60\n",
      "61\n",
      "62\n",
      "63\n",
      "64\n",
      "65\n",
      "66\n",
      "67\n",
      "68\n",
      "69\n",
      "70\n",
      "71\n",
      "72\n",
      "73\n",
      "74\n",
      "75\n",
      "76\n",
      "77\n",
      "78\n",
      "79\n",
      "80\n",
      "81\n",
      "82\n",
      "83\n",
      "84\n",
      "85\n",
      "86\n",
      "87\n",
      "88\n",
      "89\n",
      "90\n",
      "91\n",
      "92\n",
      "93\n",
      "94\n",
      "95\n",
      "96\n",
      "97\n",
      "98\n",
      "99\n",
      "100\n"
     ]
    }
   ],
   "source": [
    "for ite in range(0,tot):\n",
    "\n",
    "    print(ite)\n",
    "    varphi_u = (sp.digamma(gam_shp)-np.log(gam_rte)).reshape((1,users,K)).repeat(items,axis=0).swapaxes(0,1)\n",
    "    varphi_i = (sp.digamma(lam_shp)-np.log(lam_rte)).reshape((1,items,K)).repeat(users,axis=0)\n",
    "    varphi = varphi_u + varphi_i\n",
    "    log_norm = logsumexp(varphi,axis=2)\n",
    "    varphi = np.exp(varphi-log_norm[:,:,np.newaxis])\n",
    "    temp = y[:,:,np.newaxis]*varphi\n",
    "    gam_shp = a + temp.sum(axis=1)\n",
    "    gam_rte = (kappa_shp/kappa_rte).repeat(K,axis=1) + ((lam_shp/lam_rte).sum(axis=0,keepdims=True)).repeat(users,axis=0)\n",
    "    kappa_rte = a_c/b_c + (gam_shp/gam_rte).sum(axis=1,keepdims=True)\n",
    "    lam_shp = c + temp.sum(axis=0)\n",
    "    lam_rte = (tau_shp/tau_rte).repeat(K,axis=1) +((gam_shp/gam_rte).sum(axis=0,keepdims=True)).repeat(items,axis=0)\n",
    "    tau_rte = c_c/d_c + (lam_shp/lam_rte).sum(axis=1,keepdims=True)\n",
    "\n",
    "    if ite%test_every == 0:\n",
    "        q_theta = Gamma(gam_shp,gam_rte)\n",
    "        q_beta = Gamma(np.transpose(lam_shp),np.transpose(lam_rte))\n",
    "        beta_sample = q_beta.sample(no_sample).eval()\n",
    "        theta_sample = q_theta.sample(no_sample).eval()\n",
    "        score.append(helper_func.check(param,theta_sample,beta_sample,test_mask,full_X,metric=metric))\n",
    "        gc.collect()"
   ]
  },
  {
   "cell_type": "code",
   "execution_count": 17,
   "metadata": {},
   "outputs": [
    {
     "data": {
      "image/png": "[encoded data removed]",
      "text/plain": [
       "<matplotlib.figure.Figure at 0x7f1a26798f90>"
      ]
     },
     "metadata": {},
     "output_type": "display_data"
    },
    {
     "name": "stdout",
     "output_type": "stream",
     "text": [
      "1.96307169022\n"
     ]
    }
   ],
   "source": [
    "plt.plot(score)\n",
    "plt.show()\n",
    "print min(score)"
   ]
  }
 ],
 "metadata": {
  "anaconda-cloud": {},
  "kernelspec": {
   "display_name": "Python [conda env:bml]",
   "language": "python",
   "name": "conda-env-bml-py"
  },
  "language_info": {
   "codemirror_mode": {
    "name": "ipython",
    "version": 2
   },
   "file_extension": ".py",
   "mimetype": "text/x-python",
   "name": "python",
   "nbconvert_exporter": "python",
   "pygments_lexer": "ipython2",
   "version": "2.7.13"
  }
 },
 "nbformat": 4,
 "nbformat_minor": 2
}
