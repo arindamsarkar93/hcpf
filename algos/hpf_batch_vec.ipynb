{
 "cells": [
  {
   "cell_type": "code",
   "execution_count": null,
   "metadata": {
    "collapsed": true
   },
   "outputs": [],
   "source": [
    "import edward as ed\n",
    "from edward.models import Poisson,Gamma\n",
    "import matplotlib.pyplot as plt\n",
    "import numpy as np\n",
    "import tensorflow as tf\n",
    "import helper_func\n",
    "import math\n",
    "import models\n",
    "import scipy.special as sp\n",
    "from scipy.misc import logsumexp\n",
    "import gc"
   ]
  },
  {
   "cell_type": "code",
   "execution_count": null,
   "metadata": {
    "collapsed": true
   },
   "outputs": [],
   "source": [
    "sess = tf.InteractiveSession()\n",
    "init = tf.global_variables_initializer()\n",
    "init.run()"
   ]
  },
  {
   "cell_type": "code",
   "execution_count": null,
   "metadata": {
    "collapsed": true
   },
   "outputs": [],
   "source": [
    "dataset = 'movielens'  #bibx,biby,movielens\n",
    "full_X,y,test_mask = helper_func.load_data(dataset)\n",
    "y = full_X\n",
    "result_folder = \"dual_bibtex\"\n",
    "metric = 'mae_nz_all'\n",
    "tot = 100\n",
    "tot += 1\n",
    "ndcg = []\n",
    "test_every = 20;\n",
    "no_sample = 100\n",
    "score = []"
   ]
  },
  {
   "cell_type": "code",
   "execution_count": null,
   "metadata": {
    "collapsed": true
   },
   "outputs": [],
   "source": [
    "K = 5\n",
    "users = y.shape[0]\n",
    "items = y.shape[1]\n",
    "param = models.hpf(users,items)\n",
    "a = a_c = c = c_c = 0.3\n",
    "b_c = d_c = 1.0      "
   ]
  },
  {
   "cell_type": "code",
   "execution_count": null,
   "metadata": {
    "collapsed": true
   },
   "outputs": [],
   "source": [
    "kappa_shp =  np.ones((users,1))*(a_c + K*a)\n",
    "kappa_rte = np.random.uniform(low=0.1,size=(users,1))\n",
    "tau_shp = np.ones((items,1))*(c_c + K*c)\n",
    "tau_rte = np.random.uniform(low=0.1,size=(items,1))\n",
    "phi = np.zeros([users,items,K])\n",
    "gam_shp = np.random.uniform(low=0.1,size=[users,K])\n",
    "gam_rte = np.random.uniform(low=0.1,size=[users,K])\n",
    "lam_shp = np.random.uniform(low=0.1,size=[items,K])\n",
    "lam_rte = np.random.uniform(low=0.1,size=[items,K])\n",
    "non_zero_indices = helper_func.non_zero_entries(y)    "
   ]
  },
  {
   "cell_type": "code",
   "execution_count": null,
   "metadata": {
    "collapsed": true,
    "scrolled": true
   },
   "outputs": [],
   "source": [
    "for ite in range(0,tot):\n",
    "\n",
    "    print(ite)\n",
    "    varphi_u = (sp.digamma(gam_shp)-np.log(gam_rte)).reshape((1,users,K)).repeat(items,axis=0).swapaxes(0,1)\n",
    "    varphi_i = (sp.digamma(lam_shp)-np.log(lam_rte)).reshape((1,items,K)).repeat(users,axis=0)\n",
    "    varphi = varphi_u + varphi_i\n",
    "    log_norm = logsumexp(varphi,axis=2)\n",
    "    varphi = np.exp(varphi-log_norm[:,:,np.newaxis])\n",
    "    temp = y[:,:,np.newaxis]*varphi\n",
    "    gam_shp = a + temp.sum(axis=1)\n",
    "    gam_rte = (kappa_shp/kappa_rte).repeat(K,axis=1) + ((lam_shp/lam_rte).sum(axis=0,keepdims=True)).repeat(users,axis=0)\n",
    "    kappa_rte = a_c/b_c + (gam_shp/gam_rte).sum(axis=1,keepdims=True)\n",
    "    lam_shp = c + temp.sum(axis=0)\n",
    "    lam_rte = (tau_shp/tau_rte).repeat(K,axis=1) +((gam_shp/gam_rte).sum(axis=0,keepdims=True)).repeat(items,axis=0)\n",
    "    tau_rte = c_c/d_c + (lam_shp/lam_rte).sum(axis=1,keepdims=True)\n",
    "\n",
    "    if ite%test_every == 0:\n",
    "        q_theta = Gamma(gam_shp,gam_rte)\n",
    "        q_beta = Gamma(np.transpose(lam_shp),np.transpose(lam_rte))\n",
    "        beta_sample = q_beta.sample(no_sample).eval()\n",
    "        theta_sample = q_theta.sample(no_sample).eval()\n",
    "        score.append(helper_func.check(param,theta_sample,beta_sample,test_mask,full_X,metric=metric))\n",
    "        gc.collect()"
   ]
  },
  {
   "cell_type": "code",
   "execution_count": null,
   "metadata": {
    "collapsed": true
   },
   "outputs": [],
   "source": [
    "plt.plot(score)\n",
    "plt.show()\n",
    "print min(score)"
   ]
  }
 ],
 "metadata": {
  "anaconda-cloud": {},
  "kernelspec": {
   "display_name": "Python [conda env:bml]",
   "language": "python",
   "name": "conda-env-bml-py"
  },
  "language_info": {
   "codemirror_mode": {
    "name": "ipython",
    "version": 2
   },
   "file_extension": ".py",
   "mimetype": "text/x-python",
   "name": "python",
   "nbconvert_exporter": "python",
   "pygments_lexer": "ipython2",
   "version": "2.7.13"
  }
 },
 "nbformat": 4,
 "nbformat_minor": 2
}
