{
 "cells": [
  {
   "cell_type": "code",
   "execution_count": 1,
   "metadata": {
    "collapsed": true
   },
   "outputs": [],
   "source": [
    "import edward as ed\n",
    "from edward.models import Poisson,Gamma\n",
    "import matplotlib.pyplot as plt\n",
    "import numpy as np\n",
    "import tensorflow as tf\n",
    "import helper_func\n",
    "import math\n",
    "import models\n",
    "import scipy.special as sp\n",
    "from scipy.misc import logsumexp\n",
    "import gc"
   ]
  },
  {
   "cell_type": "code",
   "execution_count": 2,
   "metadata": {
    "collapsed": true
   },
   "outputs": [],
   "source": [
    "sess = tf.InteractiveSession()\n",
    "init = tf.global_variables_initializer()\n",
    "init.run()"
   ]
  },
  {
   "cell_type": "code",
   "execution_count": 3,
   "metadata": {
    "collapsed": true
   },
   "outputs": [],
   "source": [
    "dataset = 'movielens'  #bibx,biby,movielens\n",
    "full_X,x,test_mask = helper_func.load_data(dataset)\n",
    "x = full_X\n",
    "result_folder = \"dual_bibtex\"\n",
    "metric = 'mae_nz_all'\n",
    "users = x.shape[0]\n",
    "items = x.shape[1]\n",
    "train_non_zero_indices = helper_func.non_zero_entries(x)\n",
    "score = []"
   ]
  },
  {
   "cell_type": "code",
   "execution_count": 4,
   "metadata": {
    "collapsed": true
   },
   "outputs": [],
   "source": [
    "epochs = 100\n",
    "epochs += 1\n",
    "test_every = 1\n",
    "no_samples_mle = 5000\n",
    "no_sample_inf = 50\n",
    "k = 5\n",
    "n_trunc = 10;\n",
    "param = models.poisson_response(users,items,n_trunc);"
   ]
  },
  {
   "cell_type": "code",
   "execution_count": 5,
   "metadata": {
    "collapsed": true
   },
   "outputs": [],
   "source": [
    "eta = 0.3 #looks like n\n",
    "rho =  0.3  #looks like p\n",
    "zeta = 0.3 #looks like mirror inverted c\n",
    "omega = 0.3 #looks like w\n",
    "cutoff_loglik = np.log(1e-6);\n",
    "varrho = 1.\n",
    "varpi = 1.\n"
   ]
  },
  {
   "cell_type": "code",
   "execution_count": 6,
   "metadata": {
    "collapsed": true
   },
   "outputs": [],
   "source": [
    "ar =  np.ones(shape=(users,1))*(rho+k*eta)   # not fixed in the original code\n",
    "br = np.ones(shape=(users,1))   \n",
    "aw = np.ones(shape=(items,1))*(omega+k*zeta)  # not fixed in the original code\n",
    "bw = np.ones(shape=(items,1))\n",
    "a_s = np.random.uniform(low=0.1,size=[users,k])\n",
    "bs = np.random.uniform(low=0.1,size=[users,k])\n",
    "av = np.random.uniform(low=0.1,size=[items,k])\n",
    "bv = np.random.uniform(low=0.1,size=[items,k])\n",
    "A = np.empty(shape=[users,items])"
   ]
  },
  {
   "cell_type": "code",
   "execution_count": 7,
   "metadata": {
    "collapsed": true
   },
   "outputs": [],
   "source": [
    "param.mle_update(train_non_zero_indices,x,no_samples_mle)\n",
    "del train_non_zero_indices"
   ]
  },
  {
   "cell_type": "code",
   "execution_count": 8,
   "metadata": {
    "scrolled": true
   },
   "outputs": [
    {
     "name": "stdout",
     "output_type": "stream",
     "text": [
      "0\n",
      "0.943941107229\n",
      "1\n",
      "0.810306058572\n",
      "2\n",
      "0.812312877567\n",
      "3\n",
      "0.81220331078\n",
      "4\n",
      "0.81158627454\n",
      "5\n",
      "0.811008953789\n",
      "6\n",
      "0.810485679593\n",
      "7\n",
      "0.809947695557\n",
      "8\n",
      "0.809345501464\n",
      "9\n",
      "0.808709079174\n",
      "10\n",
      "0.808158652836\n",
      "11\n",
      "0.807975900683\n",
      "12\n",
      "0.808283087902\n",
      "13\n",
      "0.80905224427\n",
      "14\n",
      "0.810065554081\n",
      "15\n",
      "0.811020923799\n",
      "16\n",
      "0.811766850141\n",
      "17\n",
      "0.812194875653\n",
      "18\n",
      "0.812311953537\n",
      "19\n",
      "0.812290715315\n",
      "20\n",
      "0.812261115186\n",
      "21\n",
      "0.812282641212\n",
      "22\n",
      "0.812327504355\n",
      "23\n",
      "0.812313230148\n",
      "24\n",
      "0.812223927028\n",
      "25\n",
      "0.81205001726\n",
      "26\n",
      "0.811828470042\n",
      "27\n",
      "0.811605843159\n",
      "28\n",
      "0.811411733876\n",
      "29\n",
      "0.81122900726\n",
      "30\n",
      "0.811047766633\n",
      "31\n",
      "0.810867659018\n",
      "32\n",
      "0.810695465129\n",
      "33\n",
      "0.810545420082\n",
      "34\n",
      "0.810420236723\n",
      "35\n",
      "0.810314931049\n",
      "36\n",
      "0.810224984984\n",
      "37\n",
      "0.81014936884\n",
      "38\n",
      "0.810083434723\n",
      "39\n",
      "0.810024564969\n",
      "40\n",
      "0.809970037477\n",
      "41\n",
      "0.809920424544\n",
      "42\n",
      "0.809875882349\n",
      "43\n",
      "0.809835375276\n",
      "44\n",
      "0.809797666962\n",
      "45\n",
      "0.809762949257\n",
      "46\n",
      "0.80973065236\n",
      "47\n",
      "0.809700391403\n",
      "48\n",
      "0.809672668836\n",
      "49\n",
      "0.809645596747\n",
      "50\n",
      "0.809619765271\n",
      "51\n",
      "0.809595274136\n",
      "52\n",
      "0.809572551447\n",
      "53\n",
      "0.809551249933\n",
      "54\n",
      "0.80953231717\n",
      "55\n",
      "0.809515856585\n",
      "56\n",
      "0.809501091391\n",
      "57\n",
      "0.809488585714\n",
      "58\n",
      "0.809477523322\n",
      "59\n",
      "0.809467624953\n",
      "60\n",
      "0.809458238685\n",
      "61\n",
      "0.809449035657\n",
      "62\n",
      "0.809439790696\n",
      "63\n",
      "0.809430643281\n",
      "64\n",
      "0.80942245074\n",
      "65\n",
      "0.809415824013\n",
      "66\n",
      "0.80941002834\n",
      "67\n",
      "0.809405070318\n",
      "68\n",
      "0.809401246836\n",
      "69\n",
      "0.809398434846\n",
      "70\n",
      "0.809395689285\n",
      "71\n",
      "0.80939274107\n",
      "72\n",
      "0.809389888764\n",
      "73\n",
      "0.809387090693\n",
      "74\n",
      "0.809383906427\n",
      "75\n",
      "0.80938050541\n",
      "76\n",
      "0.809376791738\n",
      "77\n",
      "0.809372924057\n",
      "78\n",
      "0.809369320796\n",
      "79\n",
      "0.809366152626\n",
      "80\n",
      "0.809363454345\n",
      "81\n",
      "0.809361204122\n",
      "82\n",
      "0.809359323689\n",
      "83\n",
      "0.809357744904\n",
      "84\n",
      "0.809356456552\n",
      "85\n",
      "0.809355068565\n",
      "86\n",
      "0.809353787637\n",
      "87\n",
      "0.80935248862\n",
      "88\n",
      "0.809351321572\n",
      "89\n",
      "0.80934994492\n",
      "90\n",
      "0.809348346696\n",
      "91\n",
      "0.809346585442\n",
      "92\n",
      "0.80934468217\n",
      "93\n",
      "0.809342540056\n",
      "94\n",
      "0.809340207645\n",
      "95\n",
      "0.809337708558\n",
      "96\n",
      "0.809334991667\n",
      "97\n",
      "0.809332046577\n",
      "98\n",
      "0.809328942005\n",
      "99\n",
      "0.809325951742\n",
      "100\n",
      "0.809323170988\n",
      "101\n",
      "0.809320473466\n"
     ]
    }
   ],
   "source": [
    "curr_iter  = 0\n",
    "while curr_iter <= epochs:\n",
    "    print curr_iter    \n",
    "    br = rho/varrho + (a_s/bs).sum(axis=1,keepdims=True)\n",
    "    bs = (ar/br).repeat(k,axis=1) + ((av/bv).sum(axis=0,keepdims=True)).repeat(users,axis=0)\n",
    "    bw = omega/varpi + (av/bv).sum(axis=1,keepdims=True)\n",
    "    bv = (aw/bw).repeat(k,axis=1) +((a_s/bs).sum(axis=0,keepdims=True)).repeat(items,axis=0)\n",
    "\n",
    "    A = np.matmul((a_s/bs),(av/bv).transpose())\n",
    "    en = param.expectation_mat(x,A,n_trunc)\n",
    "    varphi_u = (sp.digamma(a_s)-np.log(bs)).reshape((1,users,k)).repeat(items,axis=0).swapaxes(0,1)\n",
    "    varphi_i = (sp.digamma(av)-np.log(bv)).reshape((1,items,k)).repeat(users,axis=0)\n",
    "    varphi = varphi_u + varphi_i\n",
    "    log_norm = logsumexp(varphi,axis=2)\n",
    "    varphi = np.exp(varphi-log_norm[:,:,np.newaxis])\n",
    "    temp = en[:,:,np.newaxis]*varphi\n",
    "    a_s = eta + temp.sum(axis=1)\n",
    "    av = zeta + temp.sum(axis=0)\n",
    "    \n",
    "    assert np.isfinite(br).all()\n",
    "    assert np.isfinite(bs).all()\n",
    "    assert np.isfinite(bw).all()\n",
    "    assert np.isfinite(bv).all()\n",
    "    assert np.isfinite(A).all()\n",
    "    assert np.isfinite(en).all()\n",
    "    assert np.isfinite(varphi).all()\n",
    "    assert np.isfinite(a_s).all()\n",
    "    assert np.isfinite(av).all()\n",
    "    gc.collect()\n",
    "    \n",
    "    \n",
    "    if curr_iter%test_every == 0:\n",
    "#         q_theta = Gamma(a_s,bs)\n",
    "#         q_beta = Gamma(np.transpose(av),np.transpose(bv))\n",
    "#         beta_sample = q_beta.sample(no_sample_inf).eval()\n",
    "#         theta_sample = q_theta.sample(no_sample_inf).eval()    \n",
    "#         score.append(helper_func.check(param,theta_sample,beta_sample,test_mask,full_X,metric=metric))\n",
    "        score.append(helper_func.mae_nz_all(x,param.lam*en))\n",
    "        print score[-1]\n",
    "        \n",
    "#         score.append(helper_func.check(param,theta_sample,beta_sample,test_mask,full_X,metric=metric))\n",
    "#         ind = x.nonzero()\n",
    "#         print np.sum(np.absolute(x[ind]-param.lam*en[ind]))/ind[0].size\n",
    "        gc.collect()\n",
    "    curr_iter += 1\n"
   ]
  },
  {
   "cell_type": "code",
   "execution_count": 9,
   "metadata": {},
   "outputs": [
    {
     "data": {
      "image/png": "[encoded data removed]",
      "text/plain": [
       "<matplotlib.figure.Figure at 0x7f8444605cd0>"
      ]
     },
     "metadata": {},
     "output_type": "display_data"
    },
    {
     "name": "stdout",
     "output_type": "stream",
     "text": [
      "0.807975900683\n"
     ]
    }
   ],
   "source": [
    "plt.plot(score)\n",
    "plt.show()\n",
    "print min(score)"
   ]
  },
  {
   "cell_type": "code",
   "execution_count": 10,
   "metadata": {},
   "outputs": [
    {
     "name": "stdout",
     "output_type": "stream",
     "text": [
      "(array([  0,   0,   0, ..., 942, 942, 942]), array([   0,    1,    2, ..., 1187, 1227, 1329]))\n"
     ]
    }
   ],
   "source": [
    "print x.nonzero()"
   ]
  },
  {
   "cell_type": "code",
   "execution_count": 11,
   "metadata": {},
   "outputs": [
    {
     "name": "stdout",
     "output_type": "stream",
     "text": [
      "5.0\n",
      "[  4.60212561e-01   4.68730062e-01   6.71351066e-02   3.79875704e-03\n",
      "   1.20908234e-04   2.56554113e-06   3.99952582e-08   4.87314099e-10\n",
      "   4.84153697e-12   4.04415361e-14]\n",
      "(943, 1682, 10)\n"
     ]
    }
   ],
   "source": [
    "ele = 0\n",
    "row = x.nonzero()[0][ele]\n",
    "col = x.nonzero()[1][ele]\n",
    "print x[row,col]\n",
    "print param.q[row,col]\n",
    "print param.q.shape"
   ]
  }
 ],
 "metadata": {
  "anaconda-cloud": {},
  "kernelspec": {
   "display_name": "Python [conda env:bml]",
   "language": "python",
   "name": "conda-env-bml-py"
  },
  "language_info": {
   "codemirror_mode": {
    "name": "ipython",
    "version": 2
   },
   "file_extension": ".py",
   "mimetype": "text/x-python",
   "name": "python",
   "nbconvert_exporter": "python",
   "pygments_lexer": "ipython2",
   "version": "2.7.13"
  }
 },
 "nbformat": 4,
 "nbformat_minor": 2
}
