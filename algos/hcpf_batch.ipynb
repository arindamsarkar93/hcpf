{
 "cells": [
  {
   "cell_type": "code",
   "execution_count": 1,
   "metadata": {
    "collapsed": true
   },
   "outputs": [],
   "source": [
    "import edward as ed\n",
    "from edward.models import Poisson,Gamma\n",
    "import matplotlib.pyplot as plt\n",
    "import numpy as np\n",
    "import tensorflow as tf\n",
    "import helper_func\n",
    "import math\n",
    "import models\n",
    "import scipy.special as sp\n",
    "from scipy.misc import logsumexp\n",
    "import gc"
   ]
  },
  {
   "cell_type": "code",
   "execution_count": 2,
   "metadata": {
    "collapsed": true
   },
   "outputs": [],
   "source": [
    "sess = tf.InteractiveSession()\n",
    "init = tf.global_variables_initializer()\n",
    "init.run()"
   ]
  },
  {
   "cell_type": "code",
   "execution_count": 3,
   "metadata": {
    "collapsed": true
   },
   "outputs": [],
   "source": [
    "dataset = 'movielens'  #bibx,biby,movielens\n",
    "full_X,x,test_mask = helper_func.load_data(dataset)\n",
    "x = full_X\n",
    "result_folder = \"dual_bibtex\"\n",
    "metric = 'mae_nz_all'\n",
    "users = x.shape[0]\n",
    "items = x.shape[1]\n",
    "train_non_zero_indices = helper_func.non_zero_entries(x)\n",
    "score = []"
   ]
  },
  {
   "cell_type": "code",
   "execution_count": 4,
   "metadata": {
    "collapsed": true
   },
   "outputs": [],
   "source": [
    "epochs = 100\n",
    "epochs += 1\n",
    "test_every = 10\n",
    "no_samples_mle = 5000\n",
    "no_sample_inf = 50\n",
    "k = 10\n",
    "n_trunc = 10;\n",
    "param = models.poisson_response(users,items,n_trunc);"
   ]
  },
  {
   "cell_type": "code",
   "execution_count": 5,
   "metadata": {
    "collapsed": true
   },
   "outputs": [],
   "source": [
    "eta = 0.3 #looks like n\n",
    "rho =  0.3  #looks like p\n",
    "zeta = 0.3 #looks like mirror inverted c\n",
    "omega = 0.3 #looks like w\n",
    "cutoff_loglik = np.log(1e-6);\n",
    "varrho = 1.\n",
    "varpi = 1.\n"
   ]
  },
  {
   "cell_type": "code",
   "execution_count": 6,
   "metadata": {
    "collapsed": true
   },
   "outputs": [],
   "source": [
    "ar =  np.ones(shape=(users,1))*(rho+k*eta)   # not fixed in the original code\n",
    "br = np.ones(shape=(users,1))   \n",
    "aw = np.ones(shape=(items,1))*(omega+k*zeta)  # not fixed in the original code\n",
    "bw = np.ones(shape=(items,1))\n",
    "a_s = np.random.uniform(low=0.1,size=[users,k])\n",
    "bs = np.random.uniform(low=0.1,size=[users,k])\n",
    "av = np.random.uniform(low=0.1,size=[items,k])\n",
    "bv = np.random.uniform(low=0.1,size=[items,k])\n",
    "A = np.empty(shape=[users,items])"
   ]
  },
  {
   "cell_type": "code",
   "execution_count": 7,
   "metadata": {
    "collapsed": true
   },
   "outputs": [],
   "source": [
    "param.mle_update(train_non_zero_indices,x,no_samples_mle)\n",
    "del train_non_zero_indices"
   ]
  },
  {
   "cell_type": "code",
   "execution_count": 8,
   "metadata": {
    "scrolled": true
   },
   "outputs": [
    {
     "name": "stdout",
     "output_type": "stream",
     "text": [
      "0\n",
      "0.941308448664\n",
      "1\n",
      "2\n",
      "3\n",
      "4\n",
      "5\n",
      "6\n",
      "7\n",
      "8\n",
      "9\n",
      "10\n",
      "0.806069826855\n",
      "11\n",
      "12\n",
      "13\n",
      "14\n",
      "15\n",
      "16\n",
      "17\n",
      "18\n",
      "19\n",
      "20\n",
      "0.807827915818\n",
      "21\n",
      "22\n",
      "23\n",
      "24\n",
      "25\n",
      "26\n",
      "27\n",
      "28\n",
      "29\n",
      "30\n",
      "0.807056517054\n",
      "31\n",
      "32\n",
      "33\n",
      "34\n",
      "35\n",
      "36\n",
      "37\n",
      "38\n",
      "39\n",
      "40\n",
      "0.806691998125\n",
      "41\n",
      "42\n",
      "43\n",
      "44\n",
      "45\n",
      "46\n",
      "47\n",
      "48\n",
      "49\n",
      "50\n",
      "0.806093119407\n",
      "51\n",
      "52\n",
      "53\n",
      "54\n",
      "55\n",
      "56\n",
      "57\n",
      "58\n",
      "59\n",
      "60\n",
      "0.805700112836\n",
      "61\n",
      "62\n",
      "63\n",
      "64\n",
      "65\n",
      "66\n",
      "67\n",
      "68\n",
      "69\n",
      "70\n",
      "0.805496538183\n",
      "71\n",
      "72\n",
      "73\n",
      "74\n",
      "75\n",
      "76\n",
      "77\n",
      "78\n",
      "79\n",
      "80\n",
      "0.805357405206\n",
      "81\n",
      "82\n",
      "83\n",
      "84\n",
      "85\n",
      "86\n",
      "87\n",
      "88\n",
      "89\n",
      "90\n",
      "0.80563882013\n",
      "91\n",
      "92\n",
      "93\n",
      "94\n",
      "95\n",
      "96\n",
      "97\n",
      "98\n",
      "99\n",
      "100\n",
      "0.805828427324\n",
      "101\n"
     ]
    }
   ],
   "source": [
    "curr_iter  = 0\n",
    "while curr_iter <= epochs:\n",
    "    print curr_iter    \n",
    "    br = rho/varrho + (a_s/bs).sum(axis=1,keepdims=True)\n",
    "    bs = (ar/br).repeat(k,axis=1) + ((av/bv).sum(axis=0,keepdims=True)).repeat(users,axis=0)\n",
    "    bw = omega/varpi + (av/bv).sum(axis=1,keepdims=True)\n",
    "    bv = (aw/bw).repeat(k,axis=1) +((a_s/bs).sum(axis=0,keepdims=True)).repeat(items,axis=0)\n",
    "\n",
    "    A = np.matmul((a_s/bs),(av/bv).transpose())\n",
    "    en = param.expectation_mat(x,A,n_trunc)\n",
    "    varphi_u = (sp.digamma(a_s)-np.log(bs)).reshape((1,users,k)).repeat(items,axis=0).swapaxes(0,1)\n",
    "    varphi_i = (sp.digamma(av)-np.log(bv)).reshape((1,items,k)).repeat(users,axis=0)\n",
    "    varphi = varphi_u + varphi_i\n",
    "    log_norm = logsumexp(varphi,axis=2)\n",
    "    varphi = np.exp(varphi-log_norm[:,:,np.newaxis])\n",
    "    temp = en[:,:,np.newaxis]*varphi\n",
    "    a_s = eta + temp.sum(axis=1)\n",
    "    av = zeta + temp.sum(axis=0)\n",
    "    \n",
    "    assert np.isfinite(br).all()\n",
    "    assert np.isfinite(bs).all()\n",
    "    assert np.isfinite(bw).all()\n",
    "    assert np.isfinite(bv).all()\n",
    "    assert np.isfinite(A).all()\n",
    "    assert np.isfinite(en).all()\n",
    "    assert np.isfinite(varphi).all()\n",
    "    assert np.isfinite(a_s).all()\n",
    "    assert np.isfinite(av).all()\n",
    "    gc.collect()\n",
    "    \n",
    "    \n",
    "    if curr_iter%test_every == 0:\n",
    "#         q_theta = Gamma(a_s,bs)\n",
    "#         q_beta = Gamma(np.transpose(av),np.transpose(bv))\n",
    "#         beta_sample = q_beta.sample(no_sample_inf).eval()\n",
    "#         theta_sample = q_theta.sample(no_sample_inf).eval()    \n",
    "#         score.append(helper_func.check(param,theta_sample,beta_sample,test_mask,full_X,metric=metric))\n",
    "        score.append(helper_func.mae_nz_all(x,param.lam*en))\n",
    "        print score[-1]\n",
    "        \n",
    "#         score.append(helper_func.check(param,theta_sample,beta_sample,test_mask,full_X,metric=metric))\n",
    "#         ind = x.nonzero()\n",
    "#         print np.sum(np.absolute(x[ind]-param.lam*en[ind]))/ind[0].size\n",
    "        gc.collect()\n",
    "    curr_iter += 1\n"
   ]
  },
  {
   "cell_type": "code",
   "execution_count": 9,
   "metadata": {},
   "outputs": [
    {
     "data": {
      "image/png": "[encoded data removed]",
      "text/plain": [
       "<matplotlib.figure.Figure at 0x7effac4ceb90>"
      ]
     },
     "metadata": {},
     "output_type": "display_data"
    },
    {
     "name": "stdout",
     "output_type": "stream",
     "text": [
      "0.805357405206\n"
     ]
    }
   ],
   "source": [
    "plt.plot(score)\n",
    "plt.show()\n",
    "print min(score)"
   ]
  },
  {
   "cell_type": "code",
   "execution_count": 10,
   "metadata": {},
   "outputs": [
    {
     "name": "stdout",
     "output_type": "stream",
     "text": [
      "(array([  0,   0,   0, ..., 942, 942, 942]), array([   0,    1,    2, ..., 1187, 1227, 1329]))\n"
     ]
    }
   ],
   "source": [
    "print x.nonzero()"
   ]
  },
  {
   "cell_type": "code",
   "execution_count": 11,
   "metadata": {},
   "outputs": [
    {
     "name": "stdout",
     "output_type": "stream",
     "text": [
      "5.0\n",
      "[  5.81689642e-01   3.81764869e-01   3.52340955e-02   1.28468086e-03\n",
      "   2.63481366e-05   3.60257723e-07   3.61895442e-09   2.84134439e-11\n",
      "   1.81902406e-13   9.79091150e-16]\n",
      "(943, 1682, 10)\n"
     ]
    }
   ],
   "source": [
    "ele = 0\n",
    "row = x.nonzero()[0][ele]\n",
    "col = x.nonzero()[1][ele]\n",
    "print x[row,col]\n",
    "print param.q[row,col]\n",
    "print param.q.shape"
   ]
  }
 ],
 "metadata": {
  "anaconda-cloud": {},
  "kernelspec": {
   "display_name": "Python [conda env:bml]",
   "language": "python",
   "name": "conda-env-bml-py"
  },
  "language_info": {
   "codemirror_mode": {
    "name": "ipython",
    "version": 2
   },
   "file_extension": ".py",
   "mimetype": "text/x-python",
   "name": "python",
   "nbconvert_exporter": "python",
   "pygments_lexer": "ipython2",
   "version": "2.7.13"
  }
 },
 "nbformat": 4,
 "nbformat_minor": 2
}
