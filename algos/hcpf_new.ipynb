{
 "cells": [
  {
   "cell_type": "code",
   "execution_count": 1,
   "metadata": {
    "collapsed": true
   },
   "outputs": [],
   "source": [
    "import edward as ed\n",
    "from edward.models import Poisson,Gamma\n",
    "import matplotlib.pyplot as plt\n",
    "import numpy as np\n",
    "import tensorflow as tf\n",
    "import helper_func\n",
    "import math\n",
    "import models\n",
    "import scipy.special as sp\n",
    "from scipy.misc import logsumexp\n",
    "import gc\n",
    "from sklearn.metrics import roc_auc_score as auc"
   ]
  },
  {
   "cell_type": "code",
   "execution_count": 2,
   "metadata": {
    "collapsed": true
   },
   "outputs": [],
   "source": [
    "sess = tf.InteractiveSession()\n",
    "init = tf.global_variables_initializer()\n",
    "init.run()"
   ]
  },
  {
   "cell_type": "code",
   "execution_count": 3,
   "metadata": {
    "collapsed": true
   },
   "outputs": [],
   "source": [
    "dataset = 'movielens'  #bibx,biby,movielens\n",
    "full_X,x,test_mask = helper_func.load_data(dataset)\n",
    "result_folder = \"dual_bibtex\"\n",
    "metric = 'mae'\n",
    "users = x.shape[0]\n",
    "items = x.shape[1]\n",
    "train_non_zero_indices = helper_func.non_zero_entries(x)\n",
    "score = []"
   ]
  },
  {
   "cell_type": "code",
   "execution_count": 4,
   "metadata": {
    "collapsed": true
   },
   "outputs": [],
   "source": [
    "epochs = 2000000\n",
    "epochs += 1\n",
    "test_every = 2000\n",
    "no_samples_mle = 5000\n",
    "no_sample_inf = 50\n",
    "\n",
    "k = 10\n",
    "param = models.poisson_response(users,items);  # 'ztp' or 'normal'"
   ]
  },
  {
   "cell_type": "code",
   "execution_count": 5,
   "metadata": {
    "collapsed": true
   },
   "outputs": [],
   "source": [
    "varpi = 0.1 #looks like 'w^bar' or omega bar\n",
    "sparsity = 1.0 - float(len(train_non_zero_indices))/(users*items)\n",
    "em = -np.log(sparsity)\n",
    "emsq = np.sqrt(em/k)\n",
    "varrho = 0.1 # looks like mirror inverted q\n",
    "eta = varrho * emsq  #looks like n\n",
    "rho =  varrho * varrho  #looks like p\n",
    "zeta = varpi *emsq #looks like mirror inverted c\n",
    "omega = varpi * varpi #looks like w\n",
    "xi = 0.7\n",
    "tau = 10000.0\n",
    "cutoff_loglik = np.log(1e-6);\n",
    "n_trunc = 20;"
   ]
  },
  {
   "cell_type": "code",
   "execution_count": 6,
   "metadata": {
    "collapsed": true
   },
   "outputs": [],
   "source": [
    "t_user = np.ones(shape=users)*tau\n",
    "t_item = np.ones(shape=items)*tau\n",
    "ar =  np.ones(shape=users)*(rho+k*eta)   # not fixed in the original code\n",
    "br = np.ones(shape=users)*(rho/varrho)   \n",
    "aw = np.ones(shape=items)*(omega+k*zeta)  # not fixed in the original code\n",
    "bw = np.ones(shape=items)*(omega/varpi)\n",
    "varphi = np.zeros(k)\n",
    "a_s = np.ones(shape=[users,k])*eta\n",
    "bs = np.ones(shape=[users,k])*varrho\n",
    "av = np.ones(shape=[items,k])*zeta\n",
    "bv = np.ones(shape=[items,k])*varpi"
   ]
  },
  {
   "cell_type": "code",
   "execution_count": 7,
   "metadata": {
    "collapsed": true
   },
   "outputs": [],
   "source": [
    "# curr_loglik = cutoff_loglik -1.0\n",
    "\n",
    "# while cutoff_loglik > curr_loglik:\n",
    "#     n_trunc -= 1\n",
    "#     curr_loglik = n_trunc* np.log(em) - np.log(np.expm1(em)) - math.lgamma(n_trunc + 1);\n",
    "# n_trunc += 1\n",
    "# print n_trunc"
   ]
  },
  {
   "cell_type": "code",
   "execution_count": 8,
   "metadata": {
    "collapsed": true
   },
   "outputs": [],
   "source": [
    "param.mle_update(train_non_zero_indices,x,no_samples_mle)\n",
    "del train_non_zero_indices"
   ]
  },
  {
   "cell_type": "code",
   "execution_count": 9,
   "metadata": {},
   "outputs": [
    {
     "name": "stdout",
     "output_type": "stream",
     "text": [
      "1.0\n"
     ]
    }
   ],
   "source": [
    "print param.get_param()"
   ]
  },
  {
   "cell_type": "code",
   "execution_count": 10,
   "metadata": {
    "collapsed": true
   },
   "outputs": [
    {
     "name": "stdout",
     "output_type": "stream",
     "text": [
      "2000\n",
      "4000\n",
      "6000\n",
      "8000\n",
      "10000\n",
      "12000\n",
      "14000\n",
      "16000\n",
      "18000\n",
      "20000\n",
      "22000\n",
      "24000\n",
      "26000\n",
      "28000\n",
      "30000\n",
      "32000\n",
      "34000\n",
      "36000\n",
      "38000\n",
      "40000\n",
      "42000\n",
      "44000\n",
      "46000\n",
      "48000\n",
      "50000\n",
      "52000\n",
      "54000\n",
      "56000\n",
      "58000\n",
      "60000\n",
      "62000\n",
      "64000\n",
      "66000\n",
      "68000\n",
      "70000\n",
      "72000\n",
      "74000\n",
      "76000\n",
      "78000\n",
      "80000\n",
      "82000\n",
      "84000\n",
      "86000\n",
      "88000\n",
      "90000\n",
      "92000\n",
      "94000\n",
      "96000\n",
      "98000\n",
      "100000\n",
      "102000\n",
      "104000\n",
      "106000\n",
      "108000\n",
      "110000\n",
      "112000\n",
      "114000\n",
      "116000\n",
      "118000\n",
      "120000\n",
      "122000\n",
      "124000\n",
      "126000\n",
      "128000\n",
      "130000\n",
      "132000\n",
      "134000\n",
      "136000\n",
      "138000\n",
      "140000\n",
      "142000\n",
      "144000\n",
      "146000\n",
      "148000\n",
      "150000\n",
      "152000\n",
      "154000\n",
      "156000\n",
      "158000\n",
      "160000\n",
      "162000\n",
      "164000\n",
      "166000\n",
      "168000\n",
      "170000\n",
      "172000\n",
      "174000\n",
      "176000\n",
      "178000\n",
      "180000\n",
      "182000\n",
      "184000\n",
      "186000\n",
      "188000\n",
      "190000\n",
      "192000\n",
      "194000\n",
      "196000\n",
      "198000\n",
      "200000\n"
     ]
    }
   ],
   "source": [
    "curr_iter  = 0\n",
    "while curr_iter <= epochs:\n",
    "    curr_iter += 1\n",
    "    u = np.random.randint(low=0,high=users,dtype='int64')\n",
    "    i = np.random.randint(low=0,high=items,dtype='int64')\n",
    "    tu = np.power(t_user[u],-xi)\n",
    "    ti = np.power(t_item[i],-xi)\n",
    "    \n",
    "    br[u] = (1.0-tu)*br[u] + tu*(rho/varrho + np.sum(a_s[u,:]/bs[u,:]))\n",
    "    bs[u,:] = (1.0-tu)*bs[u,:] + tu*(ar[u]/br[u] + items*(av[i,:]/bv[i,:]))\n",
    "    bw[i] = (1.0-ti)*bw[i] + ti*(omega/varpi + np.sum(av[i,:]/bv[i,:]))\n",
    "    bv[i,:] = (1.0-ti)*bv[i,:] + ti*(aw[i]/bw[i] + users*(a_s[u,:]/bs[u,:]))\n",
    "    \n",
    "    if x[u,i]==0:\n",
    "        a_s[u,:] = (1.0-tu)*a_s[u,:] + tu*eta\n",
    "        av[i,:] = (1.0-ti)*av[i,:] + ti*zeta\n",
    "    else:\n",
    "        A_ui = np.sum((a_s[u,:]*av[i,:])/(bs[u,:]*bv[i,:]))\n",
    "        en = param.expectation(x[u,i],A_ui,n_trunc)\n",
    "        varphi[:]= sp.digamma(a_s[u,:])-np.log(bs[u,:])+sp.digamma(av[i,:])-np.log(bv[i,:])\n",
    "        log_norm = logsumexp(varphi[:])\n",
    "        varphi[:] = np.exp(varphi[:]-log_norm)\n",
    "        a_s[u,:] = (1.0-tu)*a_s[u,:] + tu*(eta+items*en*varphi[:])\n",
    "        av[i,:] = (1.0-ti)*av[i,:] + ti*(zeta+users*en*varphi[:])\n",
    "    \n",
    "    t_user[u] += 1.0\n",
    "    t_item[i] += 1.0\n",
    "    \n",
    "#     if curr_iter%test_every == 0:\n",
    "#         print curr_iter\n",
    "#         q_theta = Gamma(a_s,bs)\n",
    "#         q_beta = Gamma(np.transpose(av),np.transpose(bv))\n",
    "#         beta_sample = q_beta.sample(no_sample_inf).eval()\n",
    "#         theta_sample = q_theta.sample(no_sample_inf).eval()\n",
    "        \n",
    "#         score.append(helper_func.check(param,theta_sample,beta_sample,test_mask,full_X,metric=metric))\n",
    "#         gc.collect()"
   ]
  },
  {
   "cell_type": "code",
   "execution_count": null,
   "metadata": {
    "collapsed": true
   },
   "outputs": [],
   "source": []
  },
  {
   "cell_type": "code",
   "execution_count": 11,
   "metadata": {
    "scrolled": true
   },
   "outputs": [
    {
     "data": {
      "image/png": "[encoded data removed]",
      "text/plain": [
       "<matplotlib.figure.Figure at 0x7fab4ca64e10>"
      ]
     },
     "metadata": {},
     "output_type": "display_data"
    }
   ],
   "source": [
    "# plt.plot(score)\n",
    "# plt.show()\n",
    "# np.savetxt('../results/'+result_folder+'/'+'hcpf_po_bibx'+metric+'_'+str(k)+'.txt',np.array(score))\n"
   ]
  },
  {
   "cell_type": "code",
   "execution_count": 12,
   "metadata": {},
   "outputs": [
    {
     "name": "stdout",
     "output_type": "stream",
     "text": [
      "10.5739895563\n"
     ]
    }
   ],
   "source": [
    "#print min(score)\n",
    "#np.savetxt(\"sampled1.txt\",param.sampled,fmt = '%.1f')\n",
    "#np.savetxt(\"count.txt\",param.temp,fmt = '%.1f')\n"
   ]
  }
 ],
 "metadata": {
  "anaconda-cloud": {},
  "kernelspec": {
   "display_name": "Python [conda env:bml]",
   "language": "python",
   "name": "conda-env-bml-py"
  },
  "language_info": {
   "codemirror_mode": {
    "name": "ipython",
    "version": 2
   },
   "file_extension": ".py",
   "mimetype": "text/x-python",
   "name": "python",
   "nbconvert_exporter": "python",
   "pygments_lexer": "ipython2",
   "version": "2.7.13"
  }
 },
 "nbformat": 4,
 "nbformat_minor": 2
}
