{
 "cells": [
  {
   "cell_type": "code",
   "execution_count": 1,
   "metadata": {
    "collapsed": true
   },
   "outputs": [],
   "source": [
    "import edward as ed\n",
    "from edward.models import Poisson,Gamma\n",
    "import matplotlib.pyplot as plt\n",
    "import numpy as np\n",
    "import tensorflow as tf\n",
    "import helper_func\n",
    "import math\n",
    "import models\n",
    "import scipy.special as sp\n",
    "from scipy.misc import logsumexp\n",
    "import gc"
   ]
  },
  {
   "cell_type": "code",
   "execution_count": 2,
   "metadata": {
    "collapsed": true
   },
   "outputs": [],
   "source": [
    "sess = tf.InteractiveSession()\n",
    "init = tf.global_variables_initializer()\n",
    "init.run()"
   ]
  },
  {
   "cell_type": "code",
   "execution_count": 3,
   "metadata": {},
   "outputs": [],
   "source": [
    "full_X,x,test_mask = helper_func.load_data()\n",
    "dataset = 'movielens' ## name of folder/dataset\n",
    "metric = 'mae'\n",
    "users = x.shape[0]\n",
    "items = x.shape[1]\n",
    "train_non_zero_indices = helper_func.non_zero_entries(x)\n",
    "score = []"
   ]
  },
  {
   "cell_type": "code",
   "execution_count": 4,
   "metadata": {},
   "outputs": [],
   "source": [
    "epochs = 100000\n",
    "epochs += 1\n",
    "test_every = 1000\n",
    "no_samples_mle = 5000\n",
    "no_sample_inf = 20\n",
    "k = 10\n",
    "param = models.poisson_response(users,items);  # 'ztp' or 'normal'"
   ]
  },
  {
   "cell_type": "code",
   "execution_count": 5,
   "metadata": {
    "collapsed": true
   },
   "outputs": [],
   "source": [
    "varpi = 0.1 #looks like 'w^bar' or omega bar\n",
    "sparsity = 1.0 - float(len(train_non_zero_indices))/(users*items)\n",
    "em = -np.log(sparsity)\n",
    "emsq = np.sqrt(em/k)\n",
    "varrho = 0.1 # looks like mirror inverted q\n",
    "eta = varrho * emsq  #looks like n\n",
    "rho =  varrho * varrho  #looks like p\n",
    "zeta = varpi *emsq #looks like mirror inverted c\n",
    "omega = varpi * varpi #looks like w\n",
    "xi = 0.7\n",
    "tau = 10000.0\n",
    "cutoff_loglik = np.log(1e-6);\n",
    "n_trunc = 20;"
   ]
  },
  {
   "cell_type": "code",
   "execution_count": 6,
   "metadata": {
    "collapsed": true
   },
   "outputs": [],
   "source": [
    "t_user = np.ones(shape=users)*tau\n",
    "t_item = np.ones(shape=items)*tau\n",
    "ar =  np.ones(shape=users)*(rho+k*eta)   # not fixed in the original code\n",
    "br = np.ones(shape=users)*(rho/varrho)   \n",
    "aw = np.ones(shape=items)*(omega+k*zeta)  # not fixed in the original code\n",
    "bw = np.ones(shape=items)*(omega/varpi)\n",
    "varphi = np.zeros(k)\n",
    "a_s = np.ones(shape=[users,k])*eta\n",
    "bs = np.ones(shape=[users,k])*varrho\n",
    "av = np.ones(shape=[items,k])*zeta\n",
    "bv = np.ones(shape=[items,k])*varpi"
   ]
  },
  {
   "cell_type": "code",
   "execution_count": 7,
   "metadata": {
    "collapsed": true
   },
   "outputs": [],
   "source": [
    "# curr_loglik = cutoff_loglik -1.0\n",
    "\n",
    "# while cutoff_loglik > curr_loglik:\n",
    "#     n_trunc -= 1\n",
    "#     curr_loglik = n_trunc* np.log(em) - np.log(np.expm1(em)) - math.lgamma(n_trunc + 1);\n",
    "# n_trunc += 1\n",
    "# print n_trunc"
   ]
  },
  {
   "cell_type": "code",
   "execution_count": 9,
   "metadata": {},
   "outputs": [],
   "source": [
    "param.mle_update(train_non_zero_indices,x,no_samples_mle)\n",
    "del train_non_zero_indices"
   ]
  },
  {
   "cell_type": "code",
   "execution_count": 10,
   "metadata": {},
   "outputs": [
    {
     "name": "stdout",
     "output_type": "stream",
     "text": [
      "3.5348\n"
     ]
    }
   ],
   "source": [
    "print param.get_param()"
   ]
  },
  {
   "cell_type": "code",
   "execution_count": 11,
   "metadata": {
    "scrolled": true
   },
   "outputs": [
    {
     "name": "stdout",
     "output_type": "stream",
     "text": [
      "1000\n"
     ]
    },
    {
     "ename": "NameError",
     "evalue": "name 'Gamma' is not defined",
     "output_type": "error",
     "traceback": [
      "\u001b[0;31m---------------------------------------------------------------------------\u001b[0m",
      "\u001b[0;31mNameError\u001b[0m                                 Traceback (most recent call last)",
      "\u001b[0;32m<ipython-input-11-36005c77ec5c>\u001b[0m in \u001b[0;36m<module>\u001b[0;34m()\u001b[0m\n\u001b[1;32m     29\u001b[0m     \u001b[0;32mif\u001b[0m \u001b[0mcurr_iter\u001b[0m\u001b[0;34m%\u001b[0m\u001b[0mtest_every\u001b[0m \u001b[0;34m==\u001b[0m \u001b[0;36m0\u001b[0m\u001b[0;34m:\u001b[0m\u001b[0;34m\u001b[0m\u001b[0m\n\u001b[1;32m     30\u001b[0m         \u001b[0;32mprint\u001b[0m \u001b[0mcurr_iter\u001b[0m\u001b[0;34m\u001b[0m\u001b[0m\n\u001b[0;32m---> 31\u001b[0;31m         \u001b[0mq_theta\u001b[0m \u001b[0;34m=\u001b[0m \u001b[0mGamma\u001b[0m\u001b[0;34m(\u001b[0m\u001b[0ma_s\u001b[0m\u001b[0;34m,\u001b[0m\u001b[0mbs\u001b[0m\u001b[0;34m)\u001b[0m\u001b[0;34m\u001b[0m\u001b[0m\n\u001b[0m\u001b[1;32m     32\u001b[0m         \u001b[0mq_beta\u001b[0m \u001b[0;34m=\u001b[0m \u001b[0mGamma\u001b[0m\u001b[0;34m(\u001b[0m\u001b[0mnp\u001b[0m\u001b[0;34m.\u001b[0m\u001b[0mtranspose\u001b[0m\u001b[0;34m(\u001b[0m\u001b[0mav\u001b[0m\u001b[0;34m)\u001b[0m\u001b[0;34m,\u001b[0m\u001b[0mnp\u001b[0m\u001b[0;34m.\u001b[0m\u001b[0mtranspose\u001b[0m\u001b[0;34m(\u001b[0m\u001b[0mbv\u001b[0m\u001b[0;34m)\u001b[0m\u001b[0;34m)\u001b[0m\u001b[0;34m\u001b[0m\u001b[0m\n\u001b[1;32m     33\u001b[0m         \u001b[0mbeta_sample\u001b[0m \u001b[0;34m=\u001b[0m \u001b[0mq_beta\u001b[0m\u001b[0;34m.\u001b[0m\u001b[0msample\u001b[0m\u001b[0;34m(\u001b[0m\u001b[0mno_sample_inf\u001b[0m\u001b[0;34m)\u001b[0m\u001b[0;34m.\u001b[0m\u001b[0meval\u001b[0m\u001b[0;34m(\u001b[0m\u001b[0;34m)\u001b[0m\u001b[0;34m\u001b[0m\u001b[0m\n",
      "\u001b[0;31mNameError\u001b[0m: name 'Gamma' is not defined"
     ]
    }
   ],
   "source": [
    "curr_iter  = 0\n",
    "while curr_iter <= epochs:\n",
    "    curr_iter += 1\n",
    "    u = np.random.randint(low=0,high=users,dtype='int64')\n",
    "    i = np.random.randint(low=0,high=items,dtype='int64')\n",
    "    tu = np.power(t_user[u],-xi)\n",
    "    ti = np.power(t_item[i],-xi)\n",
    "    \n",
    "    br[u] = (1.0-tu)*br[u] + tu*(rho/varrho + np.sum(a_s[u,:]/bs[u,:]))\n",
    "    bs[u,:] = (1.0-tu)*bs[u,:] + tu*(ar[u]/br[u] + items*(av[i,:]/bv[i,:]))\n",
    "    bw[i] = (1.0-ti)*bw[i] + ti*(omega/varpi + np.sum(av[i,:]/bv[i,:]))\n",
    "    bv[i,:] = (1.0-tu)*bv[i,:] + ti*(aw[i]/bw[i] + users*(a_s[u,:]/bs[u,:]))\n",
    "    \n",
    "    if x[u,i]==0:\n",
    "        a_s[u,:] = (1.0-tu)*a_s[u,:] + tu*eta\n",
    "        av[i,:] = (1.0-ti)*av[i,:] + ti*zeta\n",
    "    else:\n",
    "        A_ui = np.sum((a_s[u,:]*av[i,:])/(bs[u,:]*bv[i,:]))\n",
    "        en = param.expectation(x[u,i],A_ui,n_trunc)\n",
    "        varphi[:]= sp.digamma(a_s[u,:])-np.log(bs[u,:])+sp.digamma(av[i,:])-np.log(bv[i,:])\n",
    "        log_norm = logsumexp(varphi[:])\n",
    "        varphi[:] = np.exp(varphi[:]-log_norm)\n",
    "        a_s[u,:] = (1.0-tu)*a_s[u,:] + tu*(eta+items*en*varphi[:])\n",
    "        av[i,:] = (1.0-ti)*av[i,:] + ti*(zeta+users*en*varphi[:])\n",
    "    \n",
    "    t_user[u] += 1\n",
    "    t_item[i] += 1\n",
    "    \n",
    "    if curr_iter%test_every == 0:\n",
    "        print curr_iter\n",
    "        q_theta = Gamma(a_s,bs)\n",
    "        q_beta = Gamma(np.transpose(av),np.transpose(bv))\n",
    "        beta_sample = q_beta.sample(no_sample_inf).eval()\n",
    "        theta_sample = q_theta.sample(no_sample_inf).eval()\n",
    "        \n",
    "        score.append(helper_func.check(param,theta_sample,beta_sample,test_mask,full_X,metric=metric))\n",
    "        gc.collect()"
   ]
  },
  {
   "cell_type": "code",
   "execution_count": null,
   "metadata": {
    "scrolled": true
   },
   "outputs": [],
   "source": [
    "plt.plot(score)\n",
    "plt.show()\n",
    "#np.savetxt('../results/'+dataset+'/'+'hcpf_po_'+metric+'_'+str(k)+'.txt',np.array(score))\n"
   ]
  },
  {
   "cell_type": "code",
   "execution_count": null,
   "metadata": {},
   "outputs": [],
   "source": [
    "print min(score)\n",
    "#np.savetxt(\"sampled1.txt\",param.sampled,fmt = '%.1f')\n",
    "#np.savetxt(\"count.txt\",param.temp,fmt = '%.1f')\n"
   ]
  }
 ],
 "metadata": {
  "anaconda-cloud": {},
  "kernelspec": {
   "display_name": "Python [conda env:bml]",
   "language": "python",
   "name": "conda-env-bml-py"
  },
  "language_info": {
   "codemirror_mode": {
    "name": "ipython",
    "version": 2
   },
   "file_extension": ".py",
   "mimetype": "text/x-python",
   "name": "python",
   "nbconvert_exporter": "python",
   "pygments_lexer": "ipython2",
   "version": "2.7.13"
  }
 },
 "nbformat": 4,
 "nbformat_minor": 2
}
