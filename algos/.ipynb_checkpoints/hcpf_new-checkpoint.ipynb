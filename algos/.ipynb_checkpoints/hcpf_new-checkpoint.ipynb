{
 "cells": [
  {
   "cell_type": "code",
   "execution_count": 1,
   "metadata": {
    "collapsed": true
   },
   "outputs": [],
   "source": [
    "import edward as ed\n",
    "import matplotlib.pyplot as plt\n",
    "import numpy as np\n",
    "import tensorflow as tf\n",
    "import helper_func\n",
    "import math"
   ]
  },
  {
   "cell_type": "code",
   "execution_count": 5,
   "metadata": {},
   "outputs": [],
   "source": [
    "full_X,x,test_mask = helper_func.load_data()\n",
    "users = x.shape[0]\n",
    "items = x.shape[1]\n",
    "train_non_zero = helper_func.non_zero_entries(x)"
   ]
  },
  {
   "cell_type": "code",
   "execution_count": 6,
   "metadata": {
    "collapsed": true
   },
   "outputs": [],
   "source": [
    "epochs = 100000\n",
    "test_every = 1000\n",
    "k = 160\n",
    "response_model = 'poisson'  # 'ztp' or 'normal'"
   ]
  },
  {
   "cell_type": "code",
   "execution_count": 7,
   "metadata": {},
   "outputs": [],
   "source": [
    "varpi = 0.1 #looks like 'w^bar' or omega bar\n",
    "sparsity = 1.0 - float(len(train_non_zero))/(users*items)\n",
    "em = -np.log(sparsity)\n",
    "emsq = np.sqrt(em/k)\n",
    "varrho = 0.1 # looks like mirror inverted q\n",
    "eta = varrho * emsq  #looks like n\n",
    "rho =  varrho * varrho  #looks like p\n",
    "zeta = varpi *emsq #looks like mirror inverted c\n",
    "omega = varpi * varpi #looks like w\n",
    "xi = 0.7\n",
    "tau = 10000.0\n",
    "cutoff_loglik = np.log(1e-6);\n",
    "n_trunc = 100;\n"
   ]
  },
  {
   "cell_type": "code",
   "execution_count": 9,
   "metadata": {},
   "outputs": [],
   "source": [
    "t_user = np.ones(shape=users)*tau\n",
    "t_item = np.ones(shape=users)*tau\n",
    "ar =  np.ones(shape=users)*(rho+k*eta)   # not fixed in the original code\n",
    "br = np.ones(shape=users)*(rho/varrho)   \n",
    "aw = np.ones(shape=items)*(omega+k*zeta)  # not fixed in the original code\n",
    "bw = np.ones(shape=items)*(omega/varpi)\n",
    "varphi = np.zeros([users,items,k])\n",
    "a_s = np.ones(shape=[users,k])*eta\n",
    "bs = np.ones(shape=[users,k])*varrho\n",
    "av = np.ones(shape=[items,k])*zeta\n",
    "bv = np.ones(shape=[items,k])*varpi"
   ]
  },
  {
   "cell_type": "code",
   "execution_count": 11,
   "metadata": {},
   "outputs": [
    {
     "name": "stdout",
     "output_type": "stream",
     "text": [
      "102\n"
     ]
    }
   ],
   "source": [
    "curr_loglik = 0.0\n",
    "\n",
    "while cutoff_loglik > curr_loglik:\n",
    "    n_trunc -= 1\n",
    "    curr_loglik = n_trunc* np.log(e_m) - np.log(np.expm1(e_m)) - math.lgamma(n_trunc_ + 1);\n",
    "n_trunc += 1\n",
    "print n_trunc"
   ]
  },
  {
   "cell_type": "code",
   "execution_count": null,
   "metadata": {
    "collapsed": true
   },
   "outputs": [],
   "source": [
    "curr_iter  = 0\n",
    "while curr_iter <= epochs:\n",
    "    curr_iter += 1\n",
    "    u = np.random.randint(low=0,high=users,dtype='int64')\n",
    "    i = np.random.randint(low=0,high=items,dtype='int64')\n",
    "        \n",
    "    tu = np.pow(t_user[u],-xi)\n",
    "    ti = np.pow(t_item[i],-xi)\n",
    "    br[u] = (1.0-tu)*br[u] + tu*(rho/varrho + np.sum(a_s[u,:]/bs[u,:]))\n",
    "    bs[u,:] = (1.0-tu)*bs[u,:] + tu*(ar[u]/br[u] + items*(av[i,:]/bv[i,:]))\n",
    "    bw[i] = (1.0-ti)*bw[i] + ti*(omega/varpi + np.sum(av[i,:]/bv[i,:]))\n",
    "    bv[i,:] = (1.0-tu)*bv[i,:] + ti*(aw[i]/bw[i] + users*(a_s[u,:]/bs[u,:]))\n",
    "    if x[u,i]==0:\n",
    "        a_s[u,:] = (1.0-tu)a_s[u,:] + tu*eta\n",
    "        av[i,:] = (1.0-ti)av[i,:] + ti*zeta\n",
    "    else:\n",
    "        varphi[u,i,:]= np.exp(sp.digamma(a_s[u,:])-np.log(bs[u,:])+sp.digamma(av[i,:])-np.log(bv[i,:]))\n",
    "        norm = np.sum(varphi[u,i,:])\n",
    "        varphi[u,i,:] = varphi[u,i,:]/norm\n",
    "        A_ui = np.sum((a_s[u,:]*av[i,:])/(bs[u,:]*bv[i,:]))\n",
    "        en = edm.expectation(response_model,A_ui)\n",
    "        a_s[u,:] = (1.0-tu)a_s[u,:] + tu*(eta+items*en*varphi[u,i,:])\n",
    "        av[i,:] = (1.0-ti)av[i,:] + ti*(zeta+users*en*varphi[u,i,:])\n",
    "    t_user[u] += 1\n",
    "    t_item[i] += 1"
   ]
  }
 ],
 "metadata": {
  "anaconda-cloud": {},
  "kernelspec": {
   "display_name": "Python [conda env:bml]",
   "language": "python",
   "name": "conda-env-bml-py"
  },
  "language_info": {
   "codemirror_mode": {
    "name": "ipython",
    "version": 2
   },
   "file_extension": ".py",
   "mimetype": "text/x-python",
   "name": "python",
   "nbconvert_exporter": "python",
   "pygments_lexer": "ipython2",
   "version": "2.7.13"
  }
 },
 "nbformat": 4,
 "nbformat_minor": 2
}
