{
 "cells": [
  {
   "cell_type": "code",
   "execution_count": 1,
   "metadata": {
    "collapsed": true
   },
   "outputs": [],
   "source": [
    "import edward as ed\n",
    "from edward.models import Poisson,Gamma\n",
    "import matplotlib.pyplot as plt\n",
    "import numpy as np\n",
    "import tensorflow as tf\n",
    "import helper_func\n",
    "import math\n",
    "import models\n",
    "import scipy.special as sp\n",
    "from scipy.misc import logsumexp\n",
    "import gc"
   ]
  },
  {
   "cell_type": "code",
   "execution_count": 2,
   "metadata": {
    "collapsed": true
   },
   "outputs": [],
   "source": [
    "sess = tf.InteractiveSession()\n",
    "init = tf.global_variables_initializer()\n",
    "init.run()"
   ]
  },
  {
   "cell_type": "code",
   "execution_count": 3,
   "metadata": {
    "collapsed": true
   },
   "outputs": [],
   "source": [
    "dataset = 'movielens'  #bibx,biby,movielens\n",
    "full_X,x,test_mask = helper_func.load_data(dataset)\n",
    "x = full_X\n",
    "result_folder = \"dual_bibtex\"\n",
    "metric = 'mae_nz_all'\n",
    "users = x.shape[0]\n",
    "items = x.shape[1]\n",
    "train_non_zero_indices = helper_func.non_zero_entries(x)\n",
    "score = []"
   ]
  },
  {
   "cell_type": "code",
   "execution_count": 4,
   "metadata": {},
   "outputs": [],
   "source": [
    "epochs = 100\n",
    "epochs += 1\n",
    "test_every = 10\n",
    "no_samples_mle = 5000\n",
    "no_sample_inf = 50\n",
    "k = 50\n",
    "param = models.poisson_response(users,items,20);"
   ]
  },
  {
   "cell_type": "code",
   "execution_count": 5,
   "metadata": {
    "collapsed": true
   },
   "outputs": [],
   "source": [
    "eta = 0.3 #looks like n\n",
    "rho =  0.3  #looks like p\n",
    "zeta = 0.3 #looks like mirror inverted c\n",
    "omega = 0.3 #looks like w\n",
    "cutoff_loglik = np.log(1e-6);\n",
    "varrho = 1.\n",
    "varpi = 1.\n",
    "n_trunc = 20;"
   ]
  },
  {
   "cell_type": "code",
   "execution_count": 6,
   "metadata": {},
   "outputs": [],
   "source": [
    "ar =  np.ones(shape=(users,1))*(rho+k*eta)   # not fixed in the original code\n",
    "br = np.ones(shape=(users,1))   \n",
    "aw = np.ones(shape=(items,1))*(omega+k*zeta)  # not fixed in the original code\n",
    "bw = np.ones(shape=(items,1))\n",
    "a_s = np.random.uniform(low=0.1,size=[users,k])\n",
    "bs = np.random.uniform(low=0.1,size=[users,k])\n",
    "av = np.random.uniform(low=0.1,size=[items,k])\n",
    "bv = np.random.uniform(low=0.1,size=[items,k])\n",
    "A = np.empty(shape=[users,items])"
   ]
  },
  {
   "cell_type": "code",
   "execution_count": 7,
   "metadata": {},
   "outputs": [],
   "source": [
    "param.mle_update(train_non_zero_indices,x,no_samples_mle)\n",
    "del train_non_zero_indices"
   ]
  },
  {
   "cell_type": "code",
   "execution_count": 8,
   "metadata": {
    "scrolled": true
   },
   "outputs": [
    {
     "name": "stdout",
     "output_type": "stream",
     "text": [
      "0\n"
     ]
    },
    {
     "ename": "IndexError",
     "evalue": "list index out of range",
     "output_type": "error",
     "traceback": [
      "\u001b[0;31m---------------------------------------------------------------------------\u001b[0m",
      "\u001b[0;31mIndexError\u001b[0m                                Traceback (most recent call last)",
      "\u001b[0;32m<ipython-input-8-163fe7e2f3ce>\u001b[0m in \u001b[0;36m<module>\u001b[0;34m()\u001b[0m\n\u001b[1;32m     37\u001b[0m \u001b[0;31m#         score.append(helper_func.check(param,theta_sample,beta_sample,test_mask,full_X,metric=metric))\u001b[0m\u001b[0;34m\u001b[0m\u001b[0;34m\u001b[0m\u001b[0m\n\u001b[1;32m     38\u001b[0m         \u001b[0mhelper_func\u001b[0m\u001b[0;34m.\u001b[0m\u001b[0mmae_nz_all\u001b[0m\u001b[0;34m(\u001b[0m\u001b[0mx\u001b[0m\u001b[0;34m,\u001b[0m\u001b[0mparam\u001b[0m\u001b[0;34m.\u001b[0m\u001b[0mlam\u001b[0m\u001b[0;34m*\u001b[0m\u001b[0men\u001b[0m\u001b[0;34m)\u001b[0m\u001b[0;34m\u001b[0m\u001b[0m\n\u001b[0;32m---> 39\u001b[0;31m         \u001b[0;32mprint\u001b[0m \u001b[0mscore\u001b[0m\u001b[0;34m[\u001b[0m\u001b[0;34m-\u001b[0m\u001b[0;36m1\u001b[0m\u001b[0;34m]\u001b[0m\u001b[0;34m\u001b[0m\u001b[0m\n\u001b[0m\u001b[1;32m     40\u001b[0m         \u001b[0mgc\u001b[0m\u001b[0;34m.\u001b[0m\u001b[0mcollect\u001b[0m\u001b[0;34m(\u001b[0m\u001b[0;34m)\u001b[0m\u001b[0;34m\u001b[0m\u001b[0m\n\u001b[1;32m     41\u001b[0m \u001b[0;34m\u001b[0m\u001b[0m\n",
      "\u001b[0;31mIndexError\u001b[0m: list index out of range"
     ]
    }
   ],
   "source": [
    "curr_iter  = 0\n",
    "while curr_iter <= epochs:\n",
    "    print curr_iter    \n",
    "    br = rho/varrho + (a_s/bs).sum(axis=1,keepdims=True)\n",
    "    bs = (ar/br).repeat(k,axis=1) + ((av/bv).sum(axis=0,keepdims=True)).repeat(users,axis=0)\n",
    "    bw = omega/varpi + (av/bv).sum(axis=1,keepdims=True)\n",
    "    bv = (aw/bw).repeat(k,axis=1) +((a_s/bs).sum(axis=0,keepdims=True)).repeat(items,axis=0)\n",
    "\n",
    "    A = np.matmul((a_s/bs),(av/bv).transpose())\n",
    "    en = param.expectation_mat(x,A,n_trunc)\n",
    "    varphi_u = (sp.digamma(a_s)-np.log(bs)).reshape((1,users,k)).repeat(items,axis=0).swapaxes(0,1)\n",
    "    varphi_i = (sp.digamma(av)-np.log(bv)).reshape((1,items,k)).repeat(users,axis=0)\n",
    "    varphi = varphi_u + varphi_i\n",
    "    log_norm = logsumexp(varphi,axis=2)\n",
    "    varphi = np.exp(varphi-log_norm[:,:,np.newaxis])\n",
    "    temp = en[:,:,np.newaxis]*varphi\n",
    "    a_s = eta + temp.sum(axis=1)\n",
    "    av = zeta + temp.sum(axis=0)\n",
    "    \n",
    "    assert np.isfinite(br).all()\n",
    "    assert np.isfinite(bs).all()\n",
    "    assert np.isfinite(bw).all()\n",
    "    assert np.isfinite(bv).all()\n",
    "    assert np.isfinite(A).all()\n",
    "    assert np.isfinite(en).all()\n",
    "    assert np.isfinite(varphi).all()\n",
    "    assert np.isfinite(a_s).all()\n",
    "    assert np.isfinite(av).all()\n",
    "    gc.collect()\n",
    "    \n",
    "    \n",
    "    if curr_iter%test_every == 0:\n",
    "#         q_theta = Gamma(a_s,bs)\n",
    "#         q_beta = Gamma(np.transpose(av),np.transpose(bv))\n",
    "#         beta_sample = q_beta.sample(no_sample_inf).eval()\n",
    "#         theta_sample = q_theta.sample(no_sample_inf).eval()    \n",
    "#         score.append(helper_func.check(param,theta_sample,beta_sample,test_mask,full_X,metric=metric))\n",
    "        score.append(helper_func.mae_nz_all(x,param.lam*en))\n",
    "        print score[-1]\n",
    "        gc.collect()\n",
    "        \n",
    "#         score.append(helper_func.check(param,theta_sample,beta_sample,test_mask,full_X,metric=metric))\n",
    "#         ind = x.nonzero()\n",
    "#         print np.sum(np.absolute(x[ind]-param.lam*en[ind]))/ind[0].size\n",
    "        gc.collect()\n",
    "    curr_iter += 1\n"
   ]
  },
  {
   "cell_type": "code",
   "execution_count": null,
   "metadata": {},
   "outputs": [],
   "source": [
    "plt.plot(score)\n",
    "plt.show()\n",
    "print min(score)"
   ]
  }
 ],
 "metadata": {
  "anaconda-cloud": {},
  "kernelspec": {
   "display_name": "Python [conda env:bml]",
   "language": "python",
   "name": "conda-env-bml-py"
  },
  "language_info": {
   "codemirror_mode": {
    "name": "ipython",
    "version": 2
   },
   "file_extension": ".py",
   "mimetype": "text/x-python",
   "name": "python",
   "nbconvert_exporter": "python",
   "pygments_lexer": "ipython2",
   "version": "2.7.13"
  }
 },
 "nbformat": 4,
 "nbformat_minor": 2
}
