{
 "cells": [
  {
   "cell_type": "code",
   "execution_count": 1,
   "metadata": {},
   "outputs": [],
   "source": [
    "import edward as ed\n",
    "import matplotlib.pyplot as plt\n",
    "import numpy as np\n",
    "import tensorflow as tf"
   ]
  },
  {
   "cell_type": "code",
   "execution_count": 5,
   "metadata": {},
   "outputs": [],
   "source": [
    "class poisson_response:\n",
    "    \n",
    "    def __init__(self):\n",
    "        self.lam = 0\n",
    "    def set_param(self,lam):\n",
    "        self.lam = lam\n",
    "    def get_param(self):\n",
    "        return self.lam\n",
    "    \n",
    "    def mle_update(self,non_zero_indices,data,no_sample):\n",
    "        length = len(non_zero_indices)\n",
    "        sum_ele = 0.0\n",
    "        for i in range(0,no_sample):\n",
    "            rand_ind = np.random.randint(low=0,high=length)\n",
    "            sum_ele += data[non_zero_indices[rand_int][0],non_zero_indices[][1]]\n",
    "        self.lam = sum_ele/no_sample\n",
    "    \n",
    "    def expectation(self,response,a_ui,n_trunc):\n",
    "        q = np.zeroes(shape=n_trunc)\n",
    "        fac = 1.0\n",
    "        pow_a = 1.0\n",
    "        for i in range(1,n_trunc+1):\n",
    "            fac *= i\n",
    "            pow_a *= a_ui\n",
    "            q[i-1] = (np.exp(-n*self.lam)*(i**response)*pow_a)/fac\n",
    "        q = q/np.sum(q)\n",
    "        expec = 0.0\n",
    "        for i in range(1,n_trunc+1):\n",
    "            expec += n*q[i-1]\n",
    "        return expec\n",
    "    \n",
    "    def update_param(self):    \n",
    "        return"
   ]
  }
 ],
 "metadata": {
  "anaconda-cloud": {},
  "kernelspec": {
   "display_name": "Python [conda env:bml]",
   "language": "python",
   "name": "conda-env-bml-py"
  },
  "language_info": {
   "codemirror_mode": {
    "name": "ipython",
    "version": 2
   },
   "file_extension": ".py",
   "mimetype": "text/x-python",
   "name": "python",
   "nbconvert_exporter": "python",
   "pygments_lexer": "ipython2",
   "version": "2.7.13"
  }
 },
 "nbformat": 4,
 "nbformat_minor": 2
}
