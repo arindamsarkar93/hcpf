{
 "cells": [
  {
   "cell_type": "code",
   "execution_count": 8,
   "metadata": {
    "collapsed": true
   },
   "outputs": [],
   "source": [
    "import numpy as np\n",
    "import helper_func\n",
    "from sklearn import linear_model\n",
    "import cPickle as pickle\n",
    "import models"
   ]
  },
  {
   "cell_type": "code",
   "execution_count": 9,
   "metadata": {},
   "outputs": [],
   "source": [
    "PIK = \"../models/theta_bibtex_po_10.dat\"\n",
    "with open(PIK, \"rb\") as f:\n",
    "    theta,_,beta2,_,param2 = pickle.load(f)        #theta,beta1,beta2,param1,param2\n",
    "########  beta1 and beta2 are already transposed.\n",
    "f.close()\n",
    "dataset = 'multi_bibtex'\n",
    "x_test,y_test = helper_func.load_data(dataset)\n",
    "dataset = 'bibx'\n",
    "x_train,_,_ = helper_func.load_data(dataset)\n",
    "k = theta.shape[1]\n",
    "w = np.zeros(shape=[x_train.shape[1],theta.shape[1]])"
   ]
  },
  {
   "cell_type": "code",
   "execution_count": 23,
   "metadata": {
    "collapsed": true
   },
   "outputs": [
    {
     "name": "stdout",
     "output_type": "stream",
     "text": [
      "0\n",
      "1\n",
      "2\n",
      "3\n",
      "4\n",
      "5\n",
      "6\n",
      "7\n",
      "8\n",
      "9\n"
     ]
    }
   ],
   "source": [
    "reg = []\n",
    "for i in range(0,k):\n",
    "    print i\n",
    "    reg.append(linear_model.LinearRegression())\n",
    "    reg[-1].fit(x_train,theta[:,i])\n",
    "    w[:,i] = reg[-1].coef_\n",
    "del reg"
   ]
  },
  {
   "cell_type": "code",
   "execution_count": 32,
   "metadata": {},
   "outputs": [],
   "source": [
    "theta_new = np.matmul(x_test,w)\n",
    "count_new = np.matmul(theta_new,beta2)"
   ]
  },
  {
   "cell_type": "code",
   "execution_count": 35,
   "metadata": {},
   "outputs": [
    {
     "name": "stdout",
     "output_type": "stream",
     "text": [
      "[[ 0.00756798  0.01540329  0.00863778 ...,  0.04171444  0.01516354\n",
      "   0.00828277]\n",
      " [ 0.00988084  0.02000188  0.01125365 ...,  0.05416018  0.01971834\n",
      "   0.01069068]\n",
      " [ 0.00820136  0.01666159  0.00937325 ...,  0.04513987  0.01640699\n",
      "   0.00892242]\n",
      " ..., \n",
      " [ 0.00647897  0.01314598  0.00739926 ...,  0.03571186  0.01293562\n",
      "   0.00708132]\n",
      " [ 0.00835902  0.01692356  0.00952514 ...,  0.0457559   0.01664487\n",
      "   0.00908831]\n",
      " [ 0.00651525  0.01329865  0.00747219 ...,  0.03614181  0.01308955\n",
      "   0.00715077]]\n"
     ]
    }
   ],
   "source": []
  }
 ],
 "metadata": {
  "anaconda-cloud": {},
  "kernelspec": {
   "display_name": "Python [conda env:bml]",
   "language": "python",
   "name": "conda-env-bml-py"
  },
  "language_info": {
   "codemirror_mode": {
    "name": "ipython",
    "version": 2
   },
   "file_extension": ".py",
   "mimetype": "text/x-python",
   "name": "python",
   "nbconvert_exporter": "python",
   "pygments_lexer": "ipython2",
   "version": "2.7.13"
  }
 },
 "nbformat": 4,
 "nbformat_minor": 2
}
